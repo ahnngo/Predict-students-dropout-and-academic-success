{
 "cells": [
  {
   "cell_type": "markdown",
   "id": "c3992e4e",
   "metadata": {},
   "source": [
    "# Importing essential libraries"
   ]
  },
  {
   "cell_type": "code",
   "execution_count": 1,
   "id": "7dccdebc",
   "metadata": {},
   "outputs": [],
   "source": [
    "import pandas as pd\n",
    "import numpy as np\n",
    "import matplotlib.pyplot as plt\n",
    "import seaborn as sns\n",
    "%matplotlib inline"
   ]
  },
  {
   "cell_type": "code",
   "execution_count": 2,
   "id": "b56a2d4c",
   "metadata": {},
   "outputs": [],
   "source": [
    "df = pd.read_csv(\"data.txt\")"
   ]
  },
  {
   "cell_type": "code",
   "execution_count": 3,
   "id": "6a7292b7",
   "metadata": {},
   "outputs": [
    {
     "data": {
      "text/html": [
       "<div>\n",
       "<style scoped>\n",
       "    .dataframe tbody tr th:only-of-type {\n",
       "        vertical-align: middle;\n",
       "    }\n",
       "\n",
       "    .dataframe tbody tr th {\n",
       "        vertical-align: top;\n",
       "    }\n",
       "\n",
       "    .dataframe thead th {\n",
       "        text-align: right;\n",
       "    }\n",
       "</style>\n",
       "<table border=\"1\" class=\"dataframe\">\n",
       "  <thead>\n",
       "    <tr style=\"text-align: right;\">\n",
       "      <th></th>\n",
       "      <th>Marital status</th>\n",
       "      <th>Application mode</th>\n",
       "      <th>Application order</th>\n",
       "      <th>Course</th>\n",
       "      <th>Daytime/evening attendance\\t</th>\n",
       "      <th>Previous qualification</th>\n",
       "      <th>Previous qualification (grade)</th>\n",
       "      <th>Nacionality</th>\n",
       "      <th>Mother's qualification</th>\n",
       "      <th>Father's qualification</th>\n",
       "      <th>...</th>\n",
       "      <th>Curricular units 2nd sem (credited)</th>\n",
       "      <th>Curricular units 2nd sem (enrolled)</th>\n",
       "      <th>Curricular units 2nd sem (evaluations)</th>\n",
       "      <th>Curricular units 2nd sem (approved)</th>\n",
       "      <th>Curricular units 2nd sem (grade)</th>\n",
       "      <th>Curricular units 2nd sem (without evaluations)</th>\n",
       "      <th>Unemployment rate</th>\n",
       "      <th>Inflation rate</th>\n",
       "      <th>GDP</th>\n",
       "      <th>Target</th>\n",
       "    </tr>\n",
       "  </thead>\n",
       "  <tbody>\n",
       "    <tr>\n",
       "      <th>0</th>\n",
       "      <td>1</td>\n",
       "      <td>17</td>\n",
       "      <td>5</td>\n",
       "      <td>171</td>\n",
       "      <td>1</td>\n",
       "      <td>1</td>\n",
       "      <td>122.0</td>\n",
       "      <td>1</td>\n",
       "      <td>19</td>\n",
       "      <td>12</td>\n",
       "      <td>...</td>\n",
       "      <td>0</td>\n",
       "      <td>0</td>\n",
       "      <td>0</td>\n",
       "      <td>0</td>\n",
       "      <td>0.000000</td>\n",
       "      <td>0</td>\n",
       "      <td>10.8</td>\n",
       "      <td>1.4</td>\n",
       "      <td>1.74</td>\n",
       "      <td>Dropout</td>\n",
       "    </tr>\n",
       "    <tr>\n",
       "      <th>1</th>\n",
       "      <td>1</td>\n",
       "      <td>15</td>\n",
       "      <td>1</td>\n",
       "      <td>9254</td>\n",
       "      <td>1</td>\n",
       "      <td>1</td>\n",
       "      <td>160.0</td>\n",
       "      <td>1</td>\n",
       "      <td>1</td>\n",
       "      <td>3</td>\n",
       "      <td>...</td>\n",
       "      <td>0</td>\n",
       "      <td>6</td>\n",
       "      <td>6</td>\n",
       "      <td>6</td>\n",
       "      <td>13.666667</td>\n",
       "      <td>0</td>\n",
       "      <td>13.9</td>\n",
       "      <td>-0.3</td>\n",
       "      <td>0.79</td>\n",
       "      <td>Graduate</td>\n",
       "    </tr>\n",
       "    <tr>\n",
       "      <th>2</th>\n",
       "      <td>1</td>\n",
       "      <td>1</td>\n",
       "      <td>5</td>\n",
       "      <td>9070</td>\n",
       "      <td>1</td>\n",
       "      <td>1</td>\n",
       "      <td>122.0</td>\n",
       "      <td>1</td>\n",
       "      <td>37</td>\n",
       "      <td>37</td>\n",
       "      <td>...</td>\n",
       "      <td>0</td>\n",
       "      <td>6</td>\n",
       "      <td>0</td>\n",
       "      <td>0</td>\n",
       "      <td>0.000000</td>\n",
       "      <td>0</td>\n",
       "      <td>10.8</td>\n",
       "      <td>1.4</td>\n",
       "      <td>1.74</td>\n",
       "      <td>Dropout</td>\n",
       "    </tr>\n",
       "    <tr>\n",
       "      <th>3</th>\n",
       "      <td>1</td>\n",
       "      <td>17</td>\n",
       "      <td>2</td>\n",
       "      <td>9773</td>\n",
       "      <td>1</td>\n",
       "      <td>1</td>\n",
       "      <td>122.0</td>\n",
       "      <td>1</td>\n",
       "      <td>38</td>\n",
       "      <td>37</td>\n",
       "      <td>...</td>\n",
       "      <td>0</td>\n",
       "      <td>6</td>\n",
       "      <td>10</td>\n",
       "      <td>5</td>\n",
       "      <td>12.400000</td>\n",
       "      <td>0</td>\n",
       "      <td>9.4</td>\n",
       "      <td>-0.8</td>\n",
       "      <td>-3.12</td>\n",
       "      <td>Graduate</td>\n",
       "    </tr>\n",
       "    <tr>\n",
       "      <th>4</th>\n",
       "      <td>2</td>\n",
       "      <td>39</td>\n",
       "      <td>1</td>\n",
       "      <td>8014</td>\n",
       "      <td>0</td>\n",
       "      <td>1</td>\n",
       "      <td>100.0</td>\n",
       "      <td>1</td>\n",
       "      <td>37</td>\n",
       "      <td>38</td>\n",
       "      <td>...</td>\n",
       "      <td>0</td>\n",
       "      <td>6</td>\n",
       "      <td>6</td>\n",
       "      <td>6</td>\n",
       "      <td>13.000000</td>\n",
       "      <td>0</td>\n",
       "      <td>13.9</td>\n",
       "      <td>-0.3</td>\n",
       "      <td>0.79</td>\n",
       "      <td>Graduate</td>\n",
       "    </tr>\n",
       "  </tbody>\n",
       "</table>\n",
       "<p>5 rows × 37 columns</p>\n",
       "</div>"
      ],
      "text/plain": [
       "   Marital status  Application mode  Application order  Course  \\\n",
       "0               1                17                  5     171   \n",
       "1               1                15                  1    9254   \n",
       "2               1                 1                  5    9070   \n",
       "3               1                17                  2    9773   \n",
       "4               2                39                  1    8014   \n",
       "\n",
       "   Daytime/evening attendance\\t  Previous qualification  \\\n",
       "0                             1                       1   \n",
       "1                             1                       1   \n",
       "2                             1                       1   \n",
       "3                             1                       1   \n",
       "4                             0                       1   \n",
       "\n",
       "   Previous qualification (grade)  Nacionality  Mother's qualification  \\\n",
       "0                           122.0            1                      19   \n",
       "1                           160.0            1                       1   \n",
       "2                           122.0            1                      37   \n",
       "3                           122.0            1                      38   \n",
       "4                           100.0            1                      37   \n",
       "\n",
       "   Father's qualification  ...  Curricular units 2nd sem (credited)  \\\n",
       "0                      12  ...                                    0   \n",
       "1                       3  ...                                    0   \n",
       "2                      37  ...                                    0   \n",
       "3                      37  ...                                    0   \n",
       "4                      38  ...                                    0   \n",
       "\n",
       "   Curricular units 2nd sem (enrolled)  \\\n",
       "0                                    0   \n",
       "1                                    6   \n",
       "2                                    6   \n",
       "3                                    6   \n",
       "4                                    6   \n",
       "\n",
       "   Curricular units 2nd sem (evaluations)  \\\n",
       "0                                       0   \n",
       "1                                       6   \n",
       "2                                       0   \n",
       "3                                      10   \n",
       "4                                       6   \n",
       "\n",
       "   Curricular units 2nd sem (approved)  Curricular units 2nd sem (grade)  \\\n",
       "0                                    0                          0.000000   \n",
       "1                                    6                         13.666667   \n",
       "2                                    0                          0.000000   \n",
       "3                                    5                         12.400000   \n",
       "4                                    6                         13.000000   \n",
       "\n",
       "   Curricular units 2nd sem (without evaluations)  Unemployment rate  \\\n",
       "0                                               0               10.8   \n",
       "1                                               0               13.9   \n",
       "2                                               0               10.8   \n",
       "3                                               0                9.4   \n",
       "4                                               0               13.9   \n",
       "\n",
       "   Inflation rate   GDP    Target  \n",
       "0             1.4  1.74   Dropout  \n",
       "1            -0.3  0.79  Graduate  \n",
       "2             1.4  1.74   Dropout  \n",
       "3            -0.8 -3.12  Graduate  \n",
       "4            -0.3  0.79  Graduate  \n",
       "\n",
       "[5 rows x 37 columns]"
      ]
     },
     "execution_count": 3,
     "metadata": {},
     "output_type": "execute_result"
    }
   ],
   "source": [
    "df.head()"
   ]
  },
  {
   "cell_type": "code",
   "execution_count": 4,
   "id": "fd0ab922",
   "metadata": {},
   "outputs": [
    {
     "name": "stdout",
     "output_type": "stream",
     "text": [
      "<class 'pandas.core.frame.DataFrame'>\n",
      "RangeIndex: 4424 entries, 0 to 4423\n",
      "Data columns (total 37 columns):\n",
      " #   Column                                          Non-Null Count  Dtype  \n",
      "---  ------                                          --------------  -----  \n",
      " 0   Marital status                                  4424 non-null   int64  \n",
      " 1   Application mode                                4424 non-null   int64  \n",
      " 2   Application order                               4424 non-null   int64  \n",
      " 3   Course                                          4424 non-null   int64  \n",
      " 4   Daytime/evening attendance\t                     4424 non-null   int64  \n",
      " 5   Previous qualification                          4424 non-null   int64  \n",
      " 6   Previous qualification (grade)                  4424 non-null   float64\n",
      " 7   Nacionality                                     4424 non-null   int64  \n",
      " 8   Mother's qualification                          4424 non-null   int64  \n",
      " 9   Father's qualification                          4424 non-null   int64  \n",
      " 10  Mother's occupation                             4424 non-null   int64  \n",
      " 11  Father's occupation                             4424 non-null   int64  \n",
      " 12  Admission grade                                 4424 non-null   float64\n",
      " 13  Displaced                                       4424 non-null   int64  \n",
      " 14  Educational special needs                       4424 non-null   int64  \n",
      " 15  Debtor                                          4424 non-null   int64  \n",
      " 16  Tuition fees up to date                         4424 non-null   int64  \n",
      " 17  Gender                                          4424 non-null   int64  \n",
      " 18  Scholarship holder                              4424 non-null   int64  \n",
      " 19  Age at enrollment                               4424 non-null   int64  \n",
      " 20  International                                   4424 non-null   int64  \n",
      " 21  Curricular units 1st sem (credited)             4424 non-null   int64  \n",
      " 22  Curricular units 1st sem (enrolled)             4424 non-null   int64  \n",
      " 23  Curricular units 1st sem (evaluations)          4424 non-null   int64  \n",
      " 24  Curricular units 1st sem (approved)             4424 non-null   int64  \n",
      " 25  Curricular units 1st sem (grade)                4424 non-null   float64\n",
      " 26  Curricular units 1st sem (without evaluations)  4424 non-null   int64  \n",
      " 27  Curricular units 2nd sem (credited)             4424 non-null   int64  \n",
      " 28  Curricular units 2nd sem (enrolled)             4424 non-null   int64  \n",
      " 29  Curricular units 2nd sem (evaluations)          4424 non-null   int64  \n",
      " 30  Curricular units 2nd sem (approved)             4424 non-null   int64  \n",
      " 31  Curricular units 2nd sem (grade)                4424 non-null   float64\n",
      " 32  Curricular units 2nd sem (without evaluations)  4424 non-null   int64  \n",
      " 33  Unemployment rate                               4424 non-null   float64\n",
      " 34  Inflation rate                                  4424 non-null   float64\n",
      " 35  GDP                                             4424 non-null   float64\n",
      " 36  Target                                          4424 non-null   object \n",
      "dtypes: float64(7), int64(29), object(1)\n",
      "memory usage: 1.2+ MB\n"
     ]
    }
   ],
   "source": [
    "df.info()"
   ]
  },
  {
   "cell_type": "code",
   "execution_count": 5,
   "id": "6ea5cbd4",
   "metadata": {},
   "outputs": [
    {
     "data": {
      "text/plain": [
       "Marital status                                    0\n",
       "Application mode                                  0\n",
       "Application order                                 0\n",
       "Course                                            0\n",
       "Daytime/evening attendance\\t                      0\n",
       "Previous qualification                            0\n",
       "Previous qualification (grade)                    0\n",
       "Nacionality                                       0\n",
       "Mother's qualification                            0\n",
       "Father's qualification                            0\n",
       "Mother's occupation                               0\n",
       "Father's occupation                               0\n",
       "Admission grade                                   0\n",
       "Displaced                                         0\n",
       "Educational special needs                         0\n",
       "Debtor                                            0\n",
       "Tuition fees up to date                           0\n",
       "Gender                                            0\n",
       "Scholarship holder                                0\n",
       "Age at enrollment                                 0\n",
       "International                                     0\n",
       "Curricular units 1st sem (credited)               0\n",
       "Curricular units 1st sem (enrolled)               0\n",
       "Curricular units 1st sem (evaluations)            0\n",
       "Curricular units 1st sem (approved)               0\n",
       "Curricular units 1st sem (grade)                  0\n",
       "Curricular units 1st sem (without evaluations)    0\n",
       "Curricular units 2nd sem (credited)               0\n",
       "Curricular units 2nd sem (enrolled)               0\n",
       "Curricular units 2nd sem (evaluations)            0\n",
       "Curricular units 2nd sem (approved)               0\n",
       "Curricular units 2nd sem (grade)                  0\n",
       "Curricular units 2nd sem (without evaluations)    0\n",
       "Unemployment rate                                 0\n",
       "Inflation rate                                    0\n",
       "GDP                                               0\n",
       "Target                                            0\n",
       "dtype: int64"
      ]
     },
     "execution_count": 5,
     "metadata": {},
     "output_type": "execute_result"
    }
   ],
   "source": [
    "df.isnull().sum()"
   ]
  },
  {
   "cell_type": "markdown",
   "id": "9b9fb361",
   "metadata": {},
   "source": [
    "**No Missing Values**"
   ]
  },
  {
   "cell_type": "code",
   "execution_count": 6,
   "id": "b8bc15ef",
   "metadata": {},
   "outputs": [
    {
     "data": {
      "text/html": [
       "<div>\n",
       "<style scoped>\n",
       "    .dataframe tbody tr th:only-of-type {\n",
       "        vertical-align: middle;\n",
       "    }\n",
       "\n",
       "    .dataframe tbody tr th {\n",
       "        vertical-align: top;\n",
       "    }\n",
       "\n",
       "    .dataframe thead th {\n",
       "        text-align: right;\n",
       "    }\n",
       "</style>\n",
       "<table border=\"1\" class=\"dataframe\">\n",
       "  <thead>\n",
       "    <tr style=\"text-align: right;\">\n",
       "      <th></th>\n",
       "      <th>count</th>\n",
       "      <th>mean</th>\n",
       "      <th>std</th>\n",
       "      <th>min</th>\n",
       "      <th>25%</th>\n",
       "      <th>50%</th>\n",
       "      <th>75%</th>\n",
       "      <th>max</th>\n",
       "    </tr>\n",
       "  </thead>\n",
       "  <tbody>\n",
       "    <tr>\n",
       "      <th>Marital status</th>\n",
       "      <td>4424.0</td>\n",
       "      <td>1.178571</td>\n",
       "      <td>0.605747</td>\n",
       "      <td>1.00</td>\n",
       "      <td>1.00</td>\n",
       "      <td>1.000000</td>\n",
       "      <td>1.000000</td>\n",
       "      <td>6.000000</td>\n",
       "    </tr>\n",
       "    <tr>\n",
       "      <th>Application mode</th>\n",
       "      <td>4424.0</td>\n",
       "      <td>18.669078</td>\n",
       "      <td>17.484682</td>\n",
       "      <td>1.00</td>\n",
       "      <td>1.00</td>\n",
       "      <td>17.000000</td>\n",
       "      <td>39.000000</td>\n",
       "      <td>57.000000</td>\n",
       "    </tr>\n",
       "    <tr>\n",
       "      <th>Application order</th>\n",
       "      <td>4424.0</td>\n",
       "      <td>1.727848</td>\n",
       "      <td>1.313793</td>\n",
       "      <td>0.00</td>\n",
       "      <td>1.00</td>\n",
       "      <td>1.000000</td>\n",
       "      <td>2.000000</td>\n",
       "      <td>9.000000</td>\n",
       "    </tr>\n",
       "    <tr>\n",
       "      <th>Course</th>\n",
       "      <td>4424.0</td>\n",
       "      <td>8856.642631</td>\n",
       "      <td>2063.566416</td>\n",
       "      <td>33.00</td>\n",
       "      <td>9085.00</td>\n",
       "      <td>9238.000000</td>\n",
       "      <td>9556.000000</td>\n",
       "      <td>9991.000000</td>\n",
       "    </tr>\n",
       "    <tr>\n",
       "      <th>Daytime/evening attendance\\t</th>\n",
       "      <td>4424.0</td>\n",
       "      <td>0.890823</td>\n",
       "      <td>0.311897</td>\n",
       "      <td>0.00</td>\n",
       "      <td>1.00</td>\n",
       "      <td>1.000000</td>\n",
       "      <td>1.000000</td>\n",
       "      <td>1.000000</td>\n",
       "    </tr>\n",
       "    <tr>\n",
       "      <th>Previous qualification</th>\n",
       "      <td>4424.0</td>\n",
       "      <td>4.577758</td>\n",
       "      <td>10.216592</td>\n",
       "      <td>1.00</td>\n",
       "      <td>1.00</td>\n",
       "      <td>1.000000</td>\n",
       "      <td>1.000000</td>\n",
       "      <td>43.000000</td>\n",
       "    </tr>\n",
       "    <tr>\n",
       "      <th>Previous qualification (grade)</th>\n",
       "      <td>4424.0</td>\n",
       "      <td>132.613314</td>\n",
       "      <td>13.188332</td>\n",
       "      <td>95.00</td>\n",
       "      <td>125.00</td>\n",
       "      <td>133.100000</td>\n",
       "      <td>140.000000</td>\n",
       "      <td>190.000000</td>\n",
       "    </tr>\n",
       "    <tr>\n",
       "      <th>Nacionality</th>\n",
       "      <td>4424.0</td>\n",
       "      <td>1.873192</td>\n",
       "      <td>6.914514</td>\n",
       "      <td>1.00</td>\n",
       "      <td>1.00</td>\n",
       "      <td>1.000000</td>\n",
       "      <td>1.000000</td>\n",
       "      <td>109.000000</td>\n",
       "    </tr>\n",
       "    <tr>\n",
       "      <th>Mother's qualification</th>\n",
       "      <td>4424.0</td>\n",
       "      <td>19.561935</td>\n",
       "      <td>15.603186</td>\n",
       "      <td>1.00</td>\n",
       "      <td>2.00</td>\n",
       "      <td>19.000000</td>\n",
       "      <td>37.000000</td>\n",
       "      <td>44.000000</td>\n",
       "    </tr>\n",
       "    <tr>\n",
       "      <th>Father's qualification</th>\n",
       "      <td>4424.0</td>\n",
       "      <td>22.275316</td>\n",
       "      <td>15.343108</td>\n",
       "      <td>1.00</td>\n",
       "      <td>3.00</td>\n",
       "      <td>19.000000</td>\n",
       "      <td>37.000000</td>\n",
       "      <td>44.000000</td>\n",
       "    </tr>\n",
       "    <tr>\n",
       "      <th>Mother's occupation</th>\n",
       "      <td>4424.0</td>\n",
       "      <td>10.960895</td>\n",
       "      <td>26.418253</td>\n",
       "      <td>0.00</td>\n",
       "      <td>4.00</td>\n",
       "      <td>5.000000</td>\n",
       "      <td>9.000000</td>\n",
       "      <td>194.000000</td>\n",
       "    </tr>\n",
       "    <tr>\n",
       "      <th>Father's occupation</th>\n",
       "      <td>4424.0</td>\n",
       "      <td>11.032324</td>\n",
       "      <td>25.263040</td>\n",
       "      <td>0.00</td>\n",
       "      <td>4.00</td>\n",
       "      <td>7.000000</td>\n",
       "      <td>9.000000</td>\n",
       "      <td>195.000000</td>\n",
       "    </tr>\n",
       "    <tr>\n",
       "      <th>Admission grade</th>\n",
       "      <td>4424.0</td>\n",
       "      <td>126.978119</td>\n",
       "      <td>14.482001</td>\n",
       "      <td>95.00</td>\n",
       "      <td>117.90</td>\n",
       "      <td>126.100000</td>\n",
       "      <td>134.800000</td>\n",
       "      <td>190.000000</td>\n",
       "    </tr>\n",
       "    <tr>\n",
       "      <th>Displaced</th>\n",
       "      <td>4424.0</td>\n",
       "      <td>0.548373</td>\n",
       "      <td>0.497711</td>\n",
       "      <td>0.00</td>\n",
       "      <td>0.00</td>\n",
       "      <td>1.000000</td>\n",
       "      <td>1.000000</td>\n",
       "      <td>1.000000</td>\n",
       "    </tr>\n",
       "    <tr>\n",
       "      <th>Educational special needs</th>\n",
       "      <td>4424.0</td>\n",
       "      <td>0.011528</td>\n",
       "      <td>0.106760</td>\n",
       "      <td>0.00</td>\n",
       "      <td>0.00</td>\n",
       "      <td>0.000000</td>\n",
       "      <td>0.000000</td>\n",
       "      <td>1.000000</td>\n",
       "    </tr>\n",
       "    <tr>\n",
       "      <th>Debtor</th>\n",
       "      <td>4424.0</td>\n",
       "      <td>0.113698</td>\n",
       "      <td>0.317480</td>\n",
       "      <td>0.00</td>\n",
       "      <td>0.00</td>\n",
       "      <td>0.000000</td>\n",
       "      <td>0.000000</td>\n",
       "      <td>1.000000</td>\n",
       "    </tr>\n",
       "    <tr>\n",
       "      <th>Tuition fees up to date</th>\n",
       "      <td>4424.0</td>\n",
       "      <td>0.880651</td>\n",
       "      <td>0.324235</td>\n",
       "      <td>0.00</td>\n",
       "      <td>1.00</td>\n",
       "      <td>1.000000</td>\n",
       "      <td>1.000000</td>\n",
       "      <td>1.000000</td>\n",
       "    </tr>\n",
       "    <tr>\n",
       "      <th>Gender</th>\n",
       "      <td>4424.0</td>\n",
       "      <td>0.351718</td>\n",
       "      <td>0.477560</td>\n",
       "      <td>0.00</td>\n",
       "      <td>0.00</td>\n",
       "      <td>0.000000</td>\n",
       "      <td>1.000000</td>\n",
       "      <td>1.000000</td>\n",
       "    </tr>\n",
       "    <tr>\n",
       "      <th>Scholarship holder</th>\n",
       "      <td>4424.0</td>\n",
       "      <td>0.248418</td>\n",
       "      <td>0.432144</td>\n",
       "      <td>0.00</td>\n",
       "      <td>0.00</td>\n",
       "      <td>0.000000</td>\n",
       "      <td>0.000000</td>\n",
       "      <td>1.000000</td>\n",
       "    </tr>\n",
       "    <tr>\n",
       "      <th>Age at enrollment</th>\n",
       "      <td>4424.0</td>\n",
       "      <td>23.265145</td>\n",
       "      <td>7.587816</td>\n",
       "      <td>17.00</td>\n",
       "      <td>19.00</td>\n",
       "      <td>20.000000</td>\n",
       "      <td>25.000000</td>\n",
       "      <td>70.000000</td>\n",
       "    </tr>\n",
       "    <tr>\n",
       "      <th>International</th>\n",
       "      <td>4424.0</td>\n",
       "      <td>0.024864</td>\n",
       "      <td>0.155729</td>\n",
       "      <td>0.00</td>\n",
       "      <td>0.00</td>\n",
       "      <td>0.000000</td>\n",
       "      <td>0.000000</td>\n",
       "      <td>1.000000</td>\n",
       "    </tr>\n",
       "    <tr>\n",
       "      <th>Curricular units 1st sem (credited)</th>\n",
       "      <td>4424.0</td>\n",
       "      <td>0.709991</td>\n",
       "      <td>2.360507</td>\n",
       "      <td>0.00</td>\n",
       "      <td>0.00</td>\n",
       "      <td>0.000000</td>\n",
       "      <td>0.000000</td>\n",
       "      <td>20.000000</td>\n",
       "    </tr>\n",
       "    <tr>\n",
       "      <th>Curricular units 1st sem (enrolled)</th>\n",
       "      <td>4424.0</td>\n",
       "      <td>6.270570</td>\n",
       "      <td>2.480178</td>\n",
       "      <td>0.00</td>\n",
       "      <td>5.00</td>\n",
       "      <td>6.000000</td>\n",
       "      <td>7.000000</td>\n",
       "      <td>26.000000</td>\n",
       "    </tr>\n",
       "    <tr>\n",
       "      <th>Curricular units 1st sem (evaluations)</th>\n",
       "      <td>4424.0</td>\n",
       "      <td>8.299051</td>\n",
       "      <td>4.179106</td>\n",
       "      <td>0.00</td>\n",
       "      <td>6.00</td>\n",
       "      <td>8.000000</td>\n",
       "      <td>10.000000</td>\n",
       "      <td>45.000000</td>\n",
       "    </tr>\n",
       "    <tr>\n",
       "      <th>Curricular units 1st sem (approved)</th>\n",
       "      <td>4424.0</td>\n",
       "      <td>4.706600</td>\n",
       "      <td>3.094238</td>\n",
       "      <td>0.00</td>\n",
       "      <td>3.00</td>\n",
       "      <td>5.000000</td>\n",
       "      <td>6.000000</td>\n",
       "      <td>26.000000</td>\n",
       "    </tr>\n",
       "    <tr>\n",
       "      <th>Curricular units 1st sem (grade)</th>\n",
       "      <td>4424.0</td>\n",
       "      <td>10.640822</td>\n",
       "      <td>4.843663</td>\n",
       "      <td>0.00</td>\n",
       "      <td>11.00</td>\n",
       "      <td>12.285714</td>\n",
       "      <td>13.400000</td>\n",
       "      <td>18.875000</td>\n",
       "    </tr>\n",
       "    <tr>\n",
       "      <th>Curricular units 1st sem (without evaluations)</th>\n",
       "      <td>4424.0</td>\n",
       "      <td>0.137658</td>\n",
       "      <td>0.690880</td>\n",
       "      <td>0.00</td>\n",
       "      <td>0.00</td>\n",
       "      <td>0.000000</td>\n",
       "      <td>0.000000</td>\n",
       "      <td>12.000000</td>\n",
       "    </tr>\n",
       "    <tr>\n",
       "      <th>Curricular units 2nd sem (credited)</th>\n",
       "      <td>4424.0</td>\n",
       "      <td>0.541817</td>\n",
       "      <td>1.918546</td>\n",
       "      <td>0.00</td>\n",
       "      <td>0.00</td>\n",
       "      <td>0.000000</td>\n",
       "      <td>0.000000</td>\n",
       "      <td>19.000000</td>\n",
       "    </tr>\n",
       "    <tr>\n",
       "      <th>Curricular units 2nd sem (enrolled)</th>\n",
       "      <td>4424.0</td>\n",
       "      <td>6.232143</td>\n",
       "      <td>2.195951</td>\n",
       "      <td>0.00</td>\n",
       "      <td>5.00</td>\n",
       "      <td>6.000000</td>\n",
       "      <td>7.000000</td>\n",
       "      <td>23.000000</td>\n",
       "    </tr>\n",
       "    <tr>\n",
       "      <th>Curricular units 2nd sem (evaluations)</th>\n",
       "      <td>4424.0</td>\n",
       "      <td>8.063291</td>\n",
       "      <td>3.947951</td>\n",
       "      <td>0.00</td>\n",
       "      <td>6.00</td>\n",
       "      <td>8.000000</td>\n",
       "      <td>10.000000</td>\n",
       "      <td>33.000000</td>\n",
       "    </tr>\n",
       "    <tr>\n",
       "      <th>Curricular units 2nd sem (approved)</th>\n",
       "      <td>4424.0</td>\n",
       "      <td>4.435805</td>\n",
       "      <td>3.014764</td>\n",
       "      <td>0.00</td>\n",
       "      <td>2.00</td>\n",
       "      <td>5.000000</td>\n",
       "      <td>6.000000</td>\n",
       "      <td>20.000000</td>\n",
       "    </tr>\n",
       "    <tr>\n",
       "      <th>Curricular units 2nd sem (grade)</th>\n",
       "      <td>4424.0</td>\n",
       "      <td>10.230206</td>\n",
       "      <td>5.210808</td>\n",
       "      <td>0.00</td>\n",
       "      <td>10.75</td>\n",
       "      <td>12.200000</td>\n",
       "      <td>13.333333</td>\n",
       "      <td>18.571429</td>\n",
       "    </tr>\n",
       "    <tr>\n",
       "      <th>Curricular units 2nd sem (without evaluations)</th>\n",
       "      <td>4424.0</td>\n",
       "      <td>0.150316</td>\n",
       "      <td>0.753774</td>\n",
       "      <td>0.00</td>\n",
       "      <td>0.00</td>\n",
       "      <td>0.000000</td>\n",
       "      <td>0.000000</td>\n",
       "      <td>12.000000</td>\n",
       "    </tr>\n",
       "    <tr>\n",
       "      <th>Unemployment rate</th>\n",
       "      <td>4424.0</td>\n",
       "      <td>11.566139</td>\n",
       "      <td>2.663850</td>\n",
       "      <td>7.60</td>\n",
       "      <td>9.40</td>\n",
       "      <td>11.100000</td>\n",
       "      <td>13.900000</td>\n",
       "      <td>16.200000</td>\n",
       "    </tr>\n",
       "    <tr>\n",
       "      <th>Inflation rate</th>\n",
       "      <td>4424.0</td>\n",
       "      <td>1.228029</td>\n",
       "      <td>1.382711</td>\n",
       "      <td>-0.80</td>\n",
       "      <td>0.30</td>\n",
       "      <td>1.400000</td>\n",
       "      <td>2.600000</td>\n",
       "      <td>3.700000</td>\n",
       "    </tr>\n",
       "    <tr>\n",
       "      <th>GDP</th>\n",
       "      <td>4424.0</td>\n",
       "      <td>0.001969</td>\n",
       "      <td>2.269935</td>\n",
       "      <td>-4.06</td>\n",
       "      <td>-1.70</td>\n",
       "      <td>0.320000</td>\n",
       "      <td>1.790000</td>\n",
       "      <td>3.510000</td>\n",
       "    </tr>\n",
       "  </tbody>\n",
       "</table>\n",
       "</div>"
      ],
      "text/plain": [
       "                                                 count         mean  \\\n",
       "Marital status                                  4424.0     1.178571   \n",
       "Application mode                                4424.0    18.669078   \n",
       "Application order                               4424.0     1.727848   \n",
       "Course                                          4424.0  8856.642631   \n",
       "Daytime/evening attendance\\t                    4424.0     0.890823   \n",
       "Previous qualification                          4424.0     4.577758   \n",
       "Previous qualification (grade)                  4424.0   132.613314   \n",
       "Nacionality                                     4424.0     1.873192   \n",
       "Mother's qualification                          4424.0    19.561935   \n",
       "Father's qualification                          4424.0    22.275316   \n",
       "Mother's occupation                             4424.0    10.960895   \n",
       "Father's occupation                             4424.0    11.032324   \n",
       "Admission grade                                 4424.0   126.978119   \n",
       "Displaced                                       4424.0     0.548373   \n",
       "Educational special needs                       4424.0     0.011528   \n",
       "Debtor                                          4424.0     0.113698   \n",
       "Tuition fees up to date                         4424.0     0.880651   \n",
       "Gender                                          4424.0     0.351718   \n",
       "Scholarship holder                              4424.0     0.248418   \n",
       "Age at enrollment                               4424.0    23.265145   \n",
       "International                                   4424.0     0.024864   \n",
       "Curricular units 1st sem (credited)             4424.0     0.709991   \n",
       "Curricular units 1st sem (enrolled)             4424.0     6.270570   \n",
       "Curricular units 1st sem (evaluations)          4424.0     8.299051   \n",
       "Curricular units 1st sem (approved)             4424.0     4.706600   \n",
       "Curricular units 1st sem (grade)                4424.0    10.640822   \n",
       "Curricular units 1st sem (without evaluations)  4424.0     0.137658   \n",
       "Curricular units 2nd sem (credited)             4424.0     0.541817   \n",
       "Curricular units 2nd sem (enrolled)             4424.0     6.232143   \n",
       "Curricular units 2nd sem (evaluations)          4424.0     8.063291   \n",
       "Curricular units 2nd sem (approved)             4424.0     4.435805   \n",
       "Curricular units 2nd sem (grade)                4424.0    10.230206   \n",
       "Curricular units 2nd sem (without evaluations)  4424.0     0.150316   \n",
       "Unemployment rate                               4424.0    11.566139   \n",
       "Inflation rate                                  4424.0     1.228029   \n",
       "GDP                                             4424.0     0.001969   \n",
       "\n",
       "                                                        std    min      25%  \\\n",
       "Marital status                                     0.605747   1.00     1.00   \n",
       "Application mode                                  17.484682   1.00     1.00   \n",
       "Application order                                  1.313793   0.00     1.00   \n",
       "Course                                          2063.566416  33.00  9085.00   \n",
       "Daytime/evening attendance\\t                       0.311897   0.00     1.00   \n",
       "Previous qualification                            10.216592   1.00     1.00   \n",
       "Previous qualification (grade)                    13.188332  95.00   125.00   \n",
       "Nacionality                                        6.914514   1.00     1.00   \n",
       "Mother's qualification                            15.603186   1.00     2.00   \n",
       "Father's qualification                            15.343108   1.00     3.00   \n",
       "Mother's occupation                               26.418253   0.00     4.00   \n",
       "Father's occupation                               25.263040   0.00     4.00   \n",
       "Admission grade                                   14.482001  95.00   117.90   \n",
       "Displaced                                          0.497711   0.00     0.00   \n",
       "Educational special needs                          0.106760   0.00     0.00   \n",
       "Debtor                                             0.317480   0.00     0.00   \n",
       "Tuition fees up to date                            0.324235   0.00     1.00   \n",
       "Gender                                             0.477560   0.00     0.00   \n",
       "Scholarship holder                                 0.432144   0.00     0.00   \n",
       "Age at enrollment                                  7.587816  17.00    19.00   \n",
       "International                                      0.155729   0.00     0.00   \n",
       "Curricular units 1st sem (credited)                2.360507   0.00     0.00   \n",
       "Curricular units 1st sem (enrolled)                2.480178   0.00     5.00   \n",
       "Curricular units 1st sem (evaluations)             4.179106   0.00     6.00   \n",
       "Curricular units 1st sem (approved)                3.094238   0.00     3.00   \n",
       "Curricular units 1st sem (grade)                   4.843663   0.00    11.00   \n",
       "Curricular units 1st sem (without evaluations)     0.690880   0.00     0.00   \n",
       "Curricular units 2nd sem (credited)                1.918546   0.00     0.00   \n",
       "Curricular units 2nd sem (enrolled)                2.195951   0.00     5.00   \n",
       "Curricular units 2nd sem (evaluations)             3.947951   0.00     6.00   \n",
       "Curricular units 2nd sem (approved)                3.014764   0.00     2.00   \n",
       "Curricular units 2nd sem (grade)                   5.210808   0.00    10.75   \n",
       "Curricular units 2nd sem (without evaluations)     0.753774   0.00     0.00   \n",
       "Unemployment rate                                  2.663850   7.60     9.40   \n",
       "Inflation rate                                     1.382711  -0.80     0.30   \n",
       "GDP                                                2.269935  -4.06    -1.70   \n",
       "\n",
       "                                                        50%          75%  \\\n",
       "Marital status                                     1.000000     1.000000   \n",
       "Application mode                                  17.000000    39.000000   \n",
       "Application order                                  1.000000     2.000000   \n",
       "Course                                          9238.000000  9556.000000   \n",
       "Daytime/evening attendance\\t                       1.000000     1.000000   \n",
       "Previous qualification                             1.000000     1.000000   \n",
       "Previous qualification (grade)                   133.100000   140.000000   \n",
       "Nacionality                                        1.000000     1.000000   \n",
       "Mother's qualification                            19.000000    37.000000   \n",
       "Father's qualification                            19.000000    37.000000   \n",
       "Mother's occupation                                5.000000     9.000000   \n",
       "Father's occupation                                7.000000     9.000000   \n",
       "Admission grade                                  126.100000   134.800000   \n",
       "Displaced                                          1.000000     1.000000   \n",
       "Educational special needs                          0.000000     0.000000   \n",
       "Debtor                                             0.000000     0.000000   \n",
       "Tuition fees up to date                            1.000000     1.000000   \n",
       "Gender                                             0.000000     1.000000   \n",
       "Scholarship holder                                 0.000000     0.000000   \n",
       "Age at enrollment                                 20.000000    25.000000   \n",
       "International                                      0.000000     0.000000   \n",
       "Curricular units 1st sem (credited)                0.000000     0.000000   \n",
       "Curricular units 1st sem (enrolled)                6.000000     7.000000   \n",
       "Curricular units 1st sem (evaluations)             8.000000    10.000000   \n",
       "Curricular units 1st sem (approved)                5.000000     6.000000   \n",
       "Curricular units 1st sem (grade)                  12.285714    13.400000   \n",
       "Curricular units 1st sem (without evaluations)     0.000000     0.000000   \n",
       "Curricular units 2nd sem (credited)                0.000000     0.000000   \n",
       "Curricular units 2nd sem (enrolled)                6.000000     7.000000   \n",
       "Curricular units 2nd sem (evaluations)             8.000000    10.000000   \n",
       "Curricular units 2nd sem (approved)                5.000000     6.000000   \n",
       "Curricular units 2nd sem (grade)                  12.200000    13.333333   \n",
       "Curricular units 2nd sem (without evaluations)     0.000000     0.000000   \n",
       "Unemployment rate                                 11.100000    13.900000   \n",
       "Inflation rate                                     1.400000     2.600000   \n",
       "GDP                                                0.320000     1.790000   \n",
       "\n",
       "                                                        max  \n",
       "Marital status                                     6.000000  \n",
       "Application mode                                  57.000000  \n",
       "Application order                                  9.000000  \n",
       "Course                                          9991.000000  \n",
       "Daytime/evening attendance\\t                       1.000000  \n",
       "Previous qualification                            43.000000  \n",
       "Previous qualification (grade)                   190.000000  \n",
       "Nacionality                                      109.000000  \n",
       "Mother's qualification                            44.000000  \n",
       "Father's qualification                            44.000000  \n",
       "Mother's occupation                              194.000000  \n",
       "Father's occupation                              195.000000  \n",
       "Admission grade                                  190.000000  \n",
       "Displaced                                          1.000000  \n",
       "Educational special needs                          1.000000  \n",
       "Debtor                                             1.000000  \n",
       "Tuition fees up to date                            1.000000  \n",
       "Gender                                             1.000000  \n",
       "Scholarship holder                                 1.000000  \n",
       "Age at enrollment                                 70.000000  \n",
       "International                                      1.000000  \n",
       "Curricular units 1st sem (credited)               20.000000  \n",
       "Curricular units 1st sem (enrolled)               26.000000  \n",
       "Curricular units 1st sem (evaluations)            45.000000  \n",
       "Curricular units 1st sem (approved)               26.000000  \n",
       "Curricular units 1st sem (grade)                  18.875000  \n",
       "Curricular units 1st sem (without evaluations)    12.000000  \n",
       "Curricular units 2nd sem (credited)               19.000000  \n",
       "Curricular units 2nd sem (enrolled)               23.000000  \n",
       "Curricular units 2nd sem (evaluations)            33.000000  \n",
       "Curricular units 2nd sem (approved)               20.000000  \n",
       "Curricular units 2nd sem (grade)                  18.571429  \n",
       "Curricular units 2nd sem (without evaluations)    12.000000  \n",
       "Unemployment rate                                 16.200000  \n",
       "Inflation rate                                     3.700000  \n",
       "GDP                                                3.510000  "
      ]
     },
     "execution_count": 6,
     "metadata": {},
     "output_type": "execute_result"
    }
   ],
   "source": [
    "df.describe().transpose()"
   ]
  },
  {
   "cell_type": "markdown",
   "id": "862e1390",
   "metadata": {},
   "source": [
    "# EDA and Feature Engineer"
   ]
  },
  {
   "cell_type": "code",
   "execution_count": 7,
   "id": "124d0a0d",
   "metadata": {},
   "outputs": [
    {
     "data": {
      "text/plain": [
       "<AxesSubplot:xlabel='Marital status', ylabel='count'>"
      ]
     },
     "execution_count": 7,
     "metadata": {},
     "output_type": "execute_result"
    },
    {
     "data": {
      "image/png": "[encoded data removed]",
      "text/plain": [
       "<Figure size 432x288 with 1 Axes>"
      ]
     },
     "metadata": {
      "needs_background": "light"
     },
     "output_type": "display_data"
    }
   ],
   "source": [
    "sns.countplot(x='Marital status',data=df,hue='Target')"
   ]
  },
  {
   "cell_type": "markdown",
   "id": "44555f20",
   "metadata": {},
   "source": [
    "**'Enrolled' is actually not what we are targeting here. We want to know whether a student would graduate or drop out; thus, we will drop each row that has Enrolled as Target**"
   ]
  },
  {
   "cell_type": "code",
   "execution_count": 8,
   "id": "11887b1e",
   "metadata": {},
   "outputs": [],
   "source": [
    "df = df[(df['Target'] == 'Graduate') | (df['Target'] == 'Dropout')]"
   ]
  },
  {
   "cell_type": "code",
   "execution_count": 9,
   "id": "2752dd34",
   "metadata": {},
   "outputs": [],
   "source": [
    "df['Target'] = df['Target'].map({'Dropout': 0, 'Graduate': 1})"
   ]
  },
  {
   "cell_type": "code",
   "execution_count": 10,
   "id": "46677e1e",
   "metadata": {},
   "outputs": [
    {
     "data": {
      "text/plain": [
       "Age at enrollment                                -0.267229\n",
       "Debtor                                           -0.267207\n",
       "Gender                                           -0.251955\n",
       "Application mode                                 -0.244507\n",
       "Curricular units 2nd sem (without evaluations)   -0.102687\n",
       "Marital status                                   -0.100479\n",
       "Curricular units 1st sem (without evaluations)   -0.074642\n",
       "Previous qualification                           -0.062323\n",
       "Mother's qualification                           -0.053989\n",
       "Inflation rate                                   -0.030326\n",
       "Nacionality                                      -0.015516\n",
       "Educational special needs                        -0.007254\n",
       "Father's qualification                           -0.005865\n",
       "Mother's occupation                               0.000772\n",
       "Unemployment rate                                 0.004198\n",
       "Father's occupation                               0.005066\n",
       "International                                     0.006181\n",
       "Course                                            0.038135\n",
       "Curricular units 1st sem (credited)               0.046900\n",
       "GDP                                               0.050260\n",
       "Curricular units 2nd sem (credited)               0.052402\n",
       "Curricular units 1st sem (evaluations)            0.059786\n",
       "Daytime/evening attendance\\t                      0.084496\n",
       "Application order                                 0.094355\n",
       "Previous qualification (grade)                    0.109464\n",
       "Curricular units 2nd sem (evaluations)            0.119239\n",
       "Displaced                                         0.126113\n",
       "Admission grade                                   0.128058\n",
       "Curricular units 1st sem (enrolled)               0.161074\n",
       "Curricular units 2nd sem (enrolled)               0.182897\n",
       "Scholarship holder                                0.313018\n",
       "Tuition fees up to date                           0.442138\n",
       "Curricular units 1st sem (grade)                  0.519927\n",
       "Curricular units 1st sem (approved)               0.554881\n",
       "Curricular units 2nd sem (grade)                  0.605350\n",
       "Curricular units 2nd sem (approved)               0.653995\n",
       "Target                                            1.000000\n",
       "Name: Target, dtype: float64"
      ]
     },
     "execution_count": 10,
     "metadata": {},
     "output_type": "execute_result"
    }
   ],
   "source": [
    "df.corr()['Target'].sort_values()"
   ]
  },
  {
   "cell_type": "code",
   "execution_count": 11,
   "id": "f196b65f",
   "metadata": {
    "scrolled": false
   },
   "outputs": [
    {
     "name": "stderr",
     "output_type": "stream",
     "text": [
      "C:\\Users\\ngoa\\Anaconda3\\lib\\site-packages\\matplotlib\\backends\\backend_agg.py:238: RuntimeWarning: Glyph 9 missing from current font.\n",
      "  font.set_text(s, 0.0, flags=flags)\n",
      "C:\\Users\\ngoa\\Anaconda3\\lib\\site-packages\\matplotlib\\backends\\backend_agg.py:201: RuntimeWarning: Glyph 9 missing from current font.\n",
      "  font.set_text(s, 0, flags=flags)\n"
     ]
    },
    {
     "data": {
      "image/png": "[encoded data removed]",
      "text/plain": [
       "<Figure size 1008x720 with 2 Axes>"
      ]
     },
     "metadata": {
      "needs_background": "light"
     },
     "output_type": "display_data"
    }
   ],
   "source": [
    "plt.figure(figsize=(14,10))\n",
    "sns.heatmap(data=df.corr(),cmap='YlOrBr')\n",
    "plt.savefig('Correlation_Deep_Learning.png')"
   ]
  },
  {
   "cell_type": "code",
   "execution_count": 12,
   "id": "5e65fb3f",
   "metadata": {},
   "outputs": [
    {
     "data": {
      "text/plain": [
       "array([0, 1], dtype=int64)"
      ]
     },
     "execution_count": 12,
     "metadata": {},
     "output_type": "execute_result"
    }
   ],
   "source": [
    "df['Target'].unique()"
   ]
  },
  {
   "cell_type": "code",
   "execution_count": 13,
   "id": "7805ee4d",
   "metadata": {},
   "outputs": [
    {
     "data": {
      "text/plain": [
       "<AxesSubplot:xlabel='Marital status', ylabel='count'>"
      ]
     },
     "execution_count": 13,
     "metadata": {},
     "output_type": "execute_result"
    },
    {
     "data": {
      "image/png": "[encoded data removed]",
      "text/plain": [
       "<Figure size 432x288 with 1 Axes>"
      ]
     },
     "metadata": {
      "needs_background": "light"
     },
     "output_type": "display_data"
    }
   ],
   "source": [
    "sns.countplot(x='Marital status',data=df,hue='Target')"
   ]
  },
  {
   "cell_type": "code",
   "execution_count": 14,
   "id": "3038f1e2",
   "metadata": {},
   "outputs": [
    {
     "data": {
      "text/plain": [
       "1     1408\n",
       "17     713\n",
       "39     664\n",
       "43     237\n",
       "44     157\n",
       "7      132\n",
       "18     108\n",
       "42      66\n",
       "51      46\n",
       "16      30\n",
       "53      25\n",
       "15      20\n",
       "10      10\n",
       "5        8\n",
       "2        3\n",
       "27       1\n",
       "26       1\n",
       "57       1\n",
       "Name: Application mode, dtype: int64"
      ]
     },
     "execution_count": 14,
     "metadata": {},
     "output_type": "execute_result"
    }
   ],
   "source": [
    "df['Application mode'].value_counts()"
   ]
  },
  {
   "cell_type": "code",
   "execution_count": 15,
   "id": "22f52abb",
   "metadata": {},
   "outputs": [
    {
     "data": {
      "text/plain": [
       "<AxesSubplot:xlabel='Application mode', ylabel='count'>"
      ]
     },
     "execution_count": 15,
     "metadata": {},
     "output_type": "execute_result"
    },
    {
     "data": {
      "image/png": "[encoded data removed]",
      "text/plain": [
       "<Figure size 432x288 with 1 Axes>"
      ]
     },
     "metadata": {
      "needs_background": "light"
     },
     "output_type": "display_data"
    }
   ],
   "source": [
    "sns.countplot(x='Application mode',data=df,hue='Target')"
   ]
  },
  {
   "cell_type": "code",
   "execution_count": 16,
   "id": "a7b661bc",
   "metadata": {},
   "outputs": [
    {
     "data": {
      "text/plain": [
       "1    2461\n",
       "2     451\n",
       "3     249\n",
       "4     218\n",
       "5     129\n",
       "6     121\n",
       "0       1\n",
       "Name: Application order, dtype: int64"
      ]
     },
     "execution_count": 16,
     "metadata": {},
     "output_type": "execute_result"
    }
   ],
   "source": [
    "df['Application order'].value_counts()"
   ]
  },
  {
   "cell_type": "code",
   "execution_count": 17,
   "id": "50fcd8ab",
   "metadata": {},
   "outputs": [
    {
     "data": {
      "text/plain": [
       "<AxesSubplot:xlabel='Application order', ylabel='count'>"
      ]
     },
     "execution_count": 17,
     "metadata": {},
     "output_type": "execute_result"
    },
    {
     "data": {
      "image/png": "[encoded data removed]",
      "text/plain": [
       "<Figure size 432x288 with 1 Axes>"
      ]
     },
     "metadata": {
      "needs_background": "light"
     },
     "output_type": "display_data"
    }
   ],
   "source": [
    "sns.countplot(x='Application order',data=df,hue='Target')"
   ]
  },
  {
   "cell_type": "markdown",
   "id": "e50c698f",
   "metadata": {},
   "source": [
    "**Drop '0' order because it is a outlier**"
   ]
  },
  {
   "cell_type": "code",
   "execution_count": 18,
   "id": "4aecf4c6",
   "metadata": {},
   "outputs": [],
   "source": [
    "df = df[df['Application order'] != 0]"
   ]
  },
  {
   "cell_type": "code",
   "execution_count": 19,
   "id": "958c86e8",
   "metadata": {},
   "outputs": [
    {
     "data": {
      "text/plain": [
       "9500    666\n",
       "9238    313\n",
       "9773    297\n",
       "9147    272\n",
       "9085    262\n",
       "9670    220\n",
       "9991    214\n",
       "9254    211\n",
       "8014    194\n",
       "9070    184\n",
       "171     178\n",
       "9003    172\n",
       "9853    142\n",
       "9130    120\n",
       "9119    106\n",
       "9556     69\n",
       "33        9\n",
       "Name: Course, dtype: int64"
      ]
     },
     "execution_count": 19,
     "metadata": {},
     "output_type": "execute_result"
    }
   ],
   "source": [
    "df['Course'].value_counts()"
   ]
  },
  {
   "cell_type": "code",
   "execution_count": 20,
   "id": "726e5ed2",
   "metadata": {},
   "outputs": [
    {
     "data": {
      "text/plain": [
       "35      0\n",
       "693     0\n",
       "720     0\n",
       "2256    0\n",
       "2502    1\n",
       "3175    0\n",
       "3276    0\n",
       "3585    0\n",
       "3713    0\n",
       "Name: Target, dtype: int64"
      ]
     },
     "execution_count": 20,
     "metadata": {},
     "output_type": "execute_result"
    }
   ],
   "source": [
    "df[df['Course'] == 33]['Target']"
   ]
  },
  {
   "cell_type": "markdown",
   "id": "01e537b8",
   "metadata": {},
   "source": [
    "Most student who has 33 courses tend to drop out. Only 1 exception. We do not eliminate it even though it is a outlier. "
   ]
  },
  {
   "cell_type": "code",
   "execution_count": 21,
   "id": "87d11261",
   "metadata": {},
   "outputs": [
    {
     "data": {
      "image/png": "[encoded data removed]",
      "text/plain": [
       "<Figure size 720x432 with 1 Axes>"
      ]
     },
     "metadata": {
      "needs_background": "light"
     },
     "output_type": "display_data"
    }
   ],
   "source": [
    "plt.figure(figsize=(10,6))\n",
    "sns.histplot(x='Age at enrollment',data=df,hue='Target')\n",
    "plt.savefig('Age at enrollment.png')"
   ]
  },
  {
   "cell_type": "code",
   "execution_count": 22,
   "id": "06cf1c54",
   "metadata": {},
   "outputs": [],
   "source": [
    "a = (df[df['Target'] == 0].groupby('Age at enrollment').count()['Target'])"
   ]
  },
  {
   "cell_type": "code",
   "execution_count": 23,
   "id": "492e9e52",
   "metadata": {},
   "outputs": [],
   "source": [
    "b = (df[df['Target'] == 1].groupby('Age at enrollment').count()['Target'])"
   ]
  },
  {
   "cell_type": "code",
   "execution_count": 24,
   "id": "d2f95230",
   "metadata": {},
   "outputs": [],
   "source": [
    "dropout_rate = a/b"
   ]
  },
  {
   "cell_type": "code",
   "execution_count": 25,
   "id": "340b3be8",
   "metadata": {},
   "outputs": [
    {
     "data": {
      "text/plain": [
       "Age at enrollment\n",
       "18    0.305136\n",
       "19    0.378428\n",
       "20    0.407975\n",
       "21    0.584906\n",
       "22    0.734177\n",
       "23    0.976190\n",
       "24    1.244444\n",
       "25    1.880000\n",
       "26    2.260870\n",
       "27    2.291667\n",
       "28    2.238095\n",
       "29    2.812500\n",
       "30    2.307692\n",
       "31    3.000000\n",
       "32    1.434783\n",
       "33    1.176471\n",
       "34    1.526316\n",
       "35    1.933333\n",
       "36    1.909091\n",
       "37    1.642857\n",
       "38    3.166667\n",
       "39    1.200000\n",
       "40    2.166667\n",
       "41    0.733333\n",
       "42    1.750000\n",
       "43    1.000000\n",
       "44    1.111111\n",
       "45    2.600000\n",
       "46    1.000000\n",
       "47    2.200000\n",
       "48    7.000000\n",
       "49    1.400000\n",
       "50    1.800000\n",
       "51    2.500000\n",
       "53    1.000000\n",
       "54    2.000000\n",
       "55    1.500000\n",
       "57    1.000000\n",
       "58    2.000000\n",
       "59    2.000000\n",
       "Name: Target, dtype: float64"
      ]
     },
     "execution_count": 25,
     "metadata": {},
     "output_type": "execute_result"
    }
   ],
   "source": [
    "dropout_rate.dropna()"
   ]
  },
  {
   "cell_type": "code",
   "execution_count": 26,
   "id": "40e41228",
   "metadata": {},
   "outputs": [
    {
     "data": {
      "image/png": "[encoded data removed]",
      "text/plain": [
       "<Figure size 720x432 with 1 Axes>"
      ]
     },
     "metadata": {
      "needs_background": "light"
     },
     "output_type": "display_data"
    }
   ],
   "source": [
    "plt.figure(figsize=(10,6))\n",
    "plt.title('Drop Out / Graduation Rate')\n",
    "dropout_rate.plot()\n",
    "plt.savefig('dropout_rate.png')"
   ]
  },
  {
   "cell_type": "markdown",
   "id": "5b022e8d",
   "metadata": {},
   "source": [
    "Age does matter in Graduation Rate. From the chart, there are several intervals that graduation rate is much lower."
   ]
  },
  {
   "cell_type": "code",
   "execution_count": 27,
   "id": "c296e55d",
   "metadata": {},
   "outputs": [
    {
     "data": {
      "text/plain": [
       "1     3019\n",
       "39     164\n",
       "19     149\n",
       "3      121\n",
       "12      39\n",
       "40      34\n",
       "42      28\n",
       "2       22\n",
       "6       15\n",
       "9       11\n",
       "4        7\n",
       "38       6\n",
       "43       6\n",
       "10       4\n",
       "15       2\n",
       "14       1\n",
       "5        1\n",
       "Name: Previous qualification, dtype: int64"
      ]
     },
     "execution_count": 27,
     "metadata": {},
     "output_type": "execute_result"
    }
   ],
   "source": [
    "df['Previous qualification'].value_counts()"
   ]
  },
  {
   "cell_type": "code",
   "execution_count": 28,
   "id": "8578a86a",
   "metadata": {},
   "outputs": [
    {
     "data": {
      "text/html": [
       "<div>\n",
       "<style scoped>\n",
       "    .dataframe tbody tr th:only-of-type {\n",
       "        vertical-align: middle;\n",
       "    }\n",
       "\n",
       "    .dataframe tbody tr th {\n",
       "        vertical-align: top;\n",
       "    }\n",
       "\n",
       "    .dataframe thead th {\n",
       "        text-align: right;\n",
       "    }\n",
       "</style>\n",
       "<table border=\"1\" class=\"dataframe\">\n",
       "  <thead>\n",
       "    <tr style=\"text-align: right;\">\n",
       "      <th></th>\n",
       "      <th>Nacionality</th>\n",
       "      <th>International</th>\n",
       "    </tr>\n",
       "  </thead>\n",
       "  <tbody>\n",
       "    <tr>\n",
       "      <th>0</th>\n",
       "      <td>1</td>\n",
       "      <td>0</td>\n",
       "    </tr>\n",
       "    <tr>\n",
       "      <th>1</th>\n",
       "      <td>1</td>\n",
       "      <td>0</td>\n",
       "    </tr>\n",
       "    <tr>\n",
       "      <th>2</th>\n",
       "      <td>1</td>\n",
       "      <td>0</td>\n",
       "    </tr>\n",
       "    <tr>\n",
       "      <th>3</th>\n",
       "      <td>1</td>\n",
       "      <td>0</td>\n",
       "    </tr>\n",
       "    <tr>\n",
       "      <th>4</th>\n",
       "      <td>1</td>\n",
       "      <td>0</td>\n",
       "    </tr>\n",
       "    <tr>\n",
       "      <th>5</th>\n",
       "      <td>1</td>\n",
       "      <td>0</td>\n",
       "    </tr>\n",
       "    <tr>\n",
       "      <th>6</th>\n",
       "      <td>1</td>\n",
       "      <td>0</td>\n",
       "    </tr>\n",
       "    <tr>\n",
       "      <th>7</th>\n",
       "      <td>1</td>\n",
       "      <td>0</td>\n",
       "    </tr>\n",
       "    <tr>\n",
       "      <th>8</th>\n",
       "      <td>62</td>\n",
       "      <td>1</td>\n",
       "    </tr>\n",
       "    <tr>\n",
       "      <th>9</th>\n",
       "      <td>1</td>\n",
       "      <td>0</td>\n",
       "    </tr>\n",
       "  </tbody>\n",
       "</table>\n",
       "</div>"
      ],
      "text/plain": [
       "   Nacionality  International\n",
       "0            1              0\n",
       "1            1              0\n",
       "2            1              0\n",
       "3            1              0\n",
       "4            1              0\n",
       "5            1              0\n",
       "6            1              0\n",
       "7            1              0\n",
       "8           62              1\n",
       "9            1              0"
      ]
     },
     "execution_count": 28,
     "metadata": {},
     "output_type": "execute_result"
    }
   ],
   "source": [
    "df[['Nacionality','International']].head(10)"
   ]
  },
  {
   "cell_type": "code",
   "execution_count": 29,
   "id": "eb0ce135",
   "metadata": {},
   "outputs": [
    {
     "data": {
      "text/plain": [
       "1      3543\n",
       "41       32\n",
       "22       12\n",
       "26        9\n",
       "6         8\n",
       "24        5\n",
       "11        3\n",
       "103       3\n",
       "101       2\n",
       "2         2\n",
       "100       2\n",
       "13        1\n",
       "17        1\n",
       "21        1\n",
       "25        1\n",
       "62        1\n",
       "14        1\n",
       "105       1\n",
       "109       1\n",
       "Name: Nacionality, dtype: int64"
      ]
     },
     "execution_count": 29,
     "metadata": {},
     "output_type": "execute_result"
    }
   ],
   "source": [
    "df['Nacionality'].value_counts()"
   ]
  },
  {
   "cell_type": "code",
   "execution_count": 30,
   "id": "e44a64ba",
   "metadata": {},
   "outputs": [
    {
     "data": {
      "text/plain": [
       "0    3543\n",
       "1      86\n",
       "Name: International, dtype: int64"
      ]
     },
     "execution_count": 30,
     "metadata": {},
     "output_type": "execute_result"
    }
   ],
   "source": [
    "df['International'].value_counts()"
   ]
  },
  {
   "cell_type": "markdown",
   "id": "847e2a9a",
   "metadata": {},
   "source": [
    "*Nacionality and International appears to describe a similar feature, based on both the correlation table and the value_counts. Therefore, we drop the International columns*"
   ]
  },
  {
   "cell_type": "code",
   "execution_count": 31,
   "id": "493b65b0",
   "metadata": {},
   "outputs": [],
   "source": [
    "df.drop('International',axis=1,inplace=True)"
   ]
  },
  {
   "cell_type": "code",
   "execution_count": 32,
   "id": "721c75ca",
   "metadata": {
    "scrolled": true
   },
   "outputs": [
    {
     "data": {
      "text/html": [
       "<div>\n",
       "<style scoped>\n",
       "    .dataframe tbody tr th:only-of-type {\n",
       "        vertical-align: middle;\n",
       "    }\n",
       "\n",
       "    .dataframe tbody tr th {\n",
       "        vertical-align: top;\n",
       "    }\n",
       "\n",
       "    .dataframe thead th {\n",
       "        text-align: right;\n",
       "    }\n",
       "</style>\n",
       "<table border=\"1\" class=\"dataframe\">\n",
       "  <thead>\n",
       "    <tr style=\"text-align: right;\">\n",
       "      <th></th>\n",
       "      <th>Mother's occupation</th>\n",
       "      <th>Mother's qualification</th>\n",
       "    </tr>\n",
       "  </thead>\n",
       "  <tbody>\n",
       "    <tr>\n",
       "      <th>Mother's occupation</th>\n",
       "      <td>1.000000</td>\n",
       "      <td>0.093586</td>\n",
       "    </tr>\n",
       "    <tr>\n",
       "      <th>Mother's qualification</th>\n",
       "      <td>0.093586</td>\n",
       "      <td>1.000000</td>\n",
       "    </tr>\n",
       "  </tbody>\n",
       "</table>\n",
       "</div>"
      ],
      "text/plain": [
       "                        Mother's occupation  Mother's qualification\n",
       "Mother's occupation                1.000000                0.093586\n",
       "Mother's qualification             0.093586                1.000000"
      ]
     },
     "execution_count": 32,
     "metadata": {},
     "output_type": "execute_result"
    }
   ],
   "source": [
    "df[['Mother\\'s occupation','Mother\\'s qualification']].corr()"
   ]
  },
  {
   "cell_type": "code",
   "execution_count": 33,
   "id": "73d554a4",
   "metadata": {},
   "outputs": [
    {
     "data": {
      "text/html": [
       "<div>\n",
       "<style scoped>\n",
       "    .dataframe tbody tr th:only-of-type {\n",
       "        vertical-align: middle;\n",
       "    }\n",
       "\n",
       "    .dataframe tbody tr th {\n",
       "        vertical-align: top;\n",
       "    }\n",
       "\n",
       "    .dataframe thead th {\n",
       "        text-align: right;\n",
       "    }\n",
       "</style>\n",
       "<table border=\"1\" class=\"dataframe\">\n",
       "  <thead>\n",
       "    <tr style=\"text-align: right;\">\n",
       "      <th></th>\n",
       "      <th>Father's occupation</th>\n",
       "      <th>Father's qualification</th>\n",
       "    </tr>\n",
       "  </thead>\n",
       "  <tbody>\n",
       "    <tr>\n",
       "      <th>Father's occupation</th>\n",
       "      <td>1.000000</td>\n",
       "      <td>0.069999</td>\n",
       "    </tr>\n",
       "    <tr>\n",
       "      <th>Father's qualification</th>\n",
       "      <td>0.069999</td>\n",
       "      <td>1.000000</td>\n",
       "    </tr>\n",
       "  </tbody>\n",
       "</table>\n",
       "</div>"
      ],
      "text/plain": [
       "                        Father's occupation  Father's qualification\n",
       "Father's occupation                1.000000                0.069999\n",
       "Father's qualification             0.069999                1.000000"
      ]
     },
     "execution_count": 33,
     "metadata": {},
     "output_type": "execute_result"
    }
   ],
   "source": [
    "df[['Father\\'s occupation','Father\\'s qualification']].corr()"
   ]
  },
  {
   "cell_type": "markdown",
   "id": "6b797fe6",
   "metadata": {},
   "source": [
    "Parent's occupation and qualification do not correlate well with each other so we cannot do much feature engineer with these columns."
   ]
  },
  {
   "cell_type": "code",
   "execution_count": 34,
   "id": "1134622e",
   "metadata": {},
   "outputs": [
    {
     "data": {
      "text/plain": [
       "1    3143\n",
       "0     486\n",
       "Name: Tuition fees up to date, dtype: int64"
      ]
     },
     "execution_count": 34,
     "metadata": {},
     "output_type": "execute_result"
    }
   ],
   "source": [
    "df['Tuition fees up to date'].value_counts()"
   ]
  },
  {
   "cell_type": "markdown",
   "id": "9e87cb28",
   "metadata": {},
   "source": [
    "# Building Model"
   ]
  },
  {
   "cell_type": "markdown",
   "id": "7776dba7",
   "metadata": {},
   "source": [
    "## Train Test Split"
   ]
  },
  {
   "cell_type": "code",
   "execution_count": 35,
   "id": "d5b7a0ff",
   "metadata": {},
   "outputs": [],
   "source": [
    "from sklearn.model_selection import train_test_split"
   ]
  },
  {
   "cell_type": "code",
   "execution_count": 36,
   "id": "37e4f601",
   "metadata": {},
   "outputs": [],
   "source": [
    "X = df.drop('Target',axis=1)\n",
    "y = df['Target']"
   ]
  },
  {
   "cell_type": "code",
   "execution_count": 37,
   "id": "1e0bfd1b",
   "metadata": {},
   "outputs": [],
   "source": [
    "X_train, X_test, y_train, y_test = train_test_split(X, y, test_size=0.3, random_state=101)"
   ]
  },
  {
   "cell_type": "markdown",
   "id": "15178698",
   "metadata": {},
   "source": [
    "## Scaling Data"
   ]
  },
  {
   "cell_type": "code",
   "execution_count": 38,
   "id": "2509dae3",
   "metadata": {},
   "outputs": [],
   "source": [
    "from sklearn.preprocessing import MinMaxScaler"
   ]
  },
  {
   "cell_type": "code",
   "execution_count": 39,
   "id": "e1e4f061",
   "metadata": {},
   "outputs": [],
   "source": [
    "scaler = MinMaxScaler()"
   ]
  },
  {
   "cell_type": "code",
   "execution_count": 40,
   "id": "31caa18c",
   "metadata": {},
   "outputs": [],
   "source": [
    "X_train = scaler.fit_transform(X_train)\n",
    "X_test = scaler.transform(X_test)"
   ]
  },
  {
   "cell_type": "markdown",
   "id": "c3e9c451",
   "metadata": {},
   "source": [
    "## Creating Model"
   ]
  },
  {
   "cell_type": "code",
   "execution_count": 41,
   "id": "1c555f00",
   "metadata": {},
   "outputs": [],
   "source": [
    "import tensorflow as tf\n",
    "from tensorflow.keras.models import Sequential\n",
    "from tensorflow.keras.layers import Dense, Activation, Dropout\n",
    "from tensorflow.keras.callbacks import EarlyStopping,TensorBoard"
   ]
  },
  {
   "cell_type": "code",
   "execution_count": 42,
   "id": "b13a5586",
   "metadata": {},
   "outputs": [
    {
     "data": {
      "text/plain": [
       "'C:\\\\Users\\\\ngoa\\\\Desktop\\\\Data Sciene\\\\Drop Out Predict'"
      ]
     },
     "execution_count": 42,
     "metadata": {},
     "output_type": "execute_result"
    }
   ],
   "source": [
    "pwd"
   ]
  },
  {
   "cell_type": "code",
   "execution_count": 43,
   "id": "356486be",
   "metadata": {},
   "outputs": [],
   "source": [
    "from datetime import datetime"
   ]
  },
  {
   "cell_type": "code",
   "execution_count": 44,
   "id": "a7dd9401",
   "metadata": {},
   "outputs": [
    {
     "data": {
      "text/plain": [
       "'2022-05-11--2100'"
      ]
     },
     "execution_count": 44,
     "metadata": {},
     "output_type": "execute_result"
    }
   ],
   "source": [
    "datetime.now().strftime(\"%Y-%m-%d--%H%M\")"
   ]
  },
  {
   "cell_type": "code",
   "execution_count": 45,
   "id": "e56775a6",
   "metadata": {},
   "outputs": [],
   "source": [
    "log_directory = 'logs\\\\fit'\n",
    "\n",
    "\n",
    "board = TensorBoard(log_dir=log_directory,histogram_freq=1,\n",
    "    write_graph=True,\n",
    "    write_images=True,\n",
    "    update_freq='epoch',\n",
    "    profile_batch=2,\n",
    "    embeddings_freq=1)"
   ]
  },
  {
   "cell_type": "code",
   "execution_count": 46,
   "id": "e8768f9c",
   "metadata": {},
   "outputs": [
    {
     "name": "stdout",
     "output_type": "stream",
     "text": [
      "<class 'pandas.core.frame.DataFrame'>\n",
      "Int64Index: 3629 entries, 0 to 4423\n",
      "Data columns (total 36 columns):\n",
      " #   Column                                          Non-Null Count  Dtype  \n",
      "---  ------                                          --------------  -----  \n",
      " 0   Marital status                                  3629 non-null   int64  \n",
      " 1   Application mode                                3629 non-null   int64  \n",
      " 2   Application order                               3629 non-null   int64  \n",
      " 3   Course                                          3629 non-null   int64  \n",
      " 4   Daytime/evening attendance\t                     3629 non-null   int64  \n",
      " 5   Previous qualification                          3629 non-null   int64  \n",
      " 6   Previous qualification (grade)                  3629 non-null   float64\n",
      " 7   Nacionality                                     3629 non-null   int64  \n",
      " 8   Mother's qualification                          3629 non-null   int64  \n",
      " 9   Father's qualification                          3629 non-null   int64  \n",
      " 10  Mother's occupation                             3629 non-null   int64  \n",
      " 11  Father's occupation                             3629 non-null   int64  \n",
      " 12  Admission grade                                 3629 non-null   float64\n",
      " 13  Displaced                                       3629 non-null   int64  \n",
      " 14  Educational special needs                       3629 non-null   int64  \n",
      " 15  Debtor                                          3629 non-null   int64  \n",
      " 16  Tuition fees up to date                         3629 non-null   int64  \n",
      " 17  Gender                                          3629 non-null   int64  \n",
      " 18  Scholarship holder                              3629 non-null   int64  \n",
      " 19  Age at enrollment                               3629 non-null   int64  \n",
      " 20  Curricular units 1st sem (credited)             3629 non-null   int64  \n",
      " 21  Curricular units 1st sem (enrolled)             3629 non-null   int64  \n",
      " 22  Curricular units 1st sem (evaluations)          3629 non-null   int64  \n",
      " 23  Curricular units 1st sem (approved)             3629 non-null   int64  \n",
      " 24  Curricular units 1st sem (grade)                3629 non-null   float64\n",
      " 25  Curricular units 1st sem (without evaluations)  3629 non-null   int64  \n",
      " 26  Curricular units 2nd sem (credited)             3629 non-null   int64  \n",
      " 27  Curricular units 2nd sem (enrolled)             3629 non-null   int64  \n",
      " 28  Curricular units 2nd sem (evaluations)          3629 non-null   int64  \n",
      " 29  Curricular units 2nd sem (approved)             3629 non-null   int64  \n",
      " 30  Curricular units 2nd sem (grade)                3629 non-null   float64\n",
      " 31  Curricular units 2nd sem (without evaluations)  3629 non-null   int64  \n",
      " 32  Unemployment rate                               3629 non-null   float64\n",
      " 33  Inflation rate                                  3629 non-null   float64\n",
      " 34  GDP                                             3629 non-null   float64\n",
      " 35  Target                                          3629 non-null   int64  \n",
      "dtypes: float64(7), int64(29)\n",
      "memory usage: 1.0 MB\n"
     ]
    }
   ],
   "source": [
    "df.info()"
   ]
  },
  {
   "cell_type": "code",
   "execution_count": 47,
   "id": "6ed94aa8",
   "metadata": {},
   "outputs": [],
   "source": [
    "model = Sequential()\n",
    "\n",
    "# input layer\n",
    "model.add(Dense(units=34,activation='relu'))\n",
    "model.add(Dropout(0.5))\n",
    "\n",
    "# hidden layer\n",
    "model.add(Dense(units=17,activation='relu'))\n",
    "model.add(Dropout(0.5))\n",
    "\n",
    "# output layer\n",
    "model.add(Dense(units=1,activation='sigmoid'))\n",
    "\n",
    "# compiler\n",
    "model.compile(loss='binary_crossentropy', optimizer='adam')"
   ]
  },
  {
   "cell_type": "code",
   "execution_count": 48,
   "id": "8045b7e4",
   "metadata": {},
   "outputs": [],
   "source": [
    "early_stop = EarlyStopping(monitor='val_loss',mode='min',verbose=1,patience=25)"
   ]
  },
  {
   "cell_type": "code",
   "execution_count": null,
   "id": "70e1cd72",
   "metadata": {
    "scrolled": false
   },
   "outputs": [
    {
     "name": "stdout",
     "output_type": "stream",
     "text": [
      "Epoch 1/600\n",
      "80/80 [==============================] - 1s 4ms/step - loss: 0.6671 - val_loss: 0.5930\n",
      "Epoch 2/600\n",
      "80/80 [==============================] - 0s 2ms/step - loss: 0.5994 - val_loss: 0.5142\n",
      "Epoch 3/600\n",
      "80/80 [==============================] - 0s 3ms/step - loss: 0.5207 - val_loss: 0.4293\n",
      "Epoch 4/600\n",
      "80/80 [==============================] - 0s 4ms/step - loss: 0.4777 - val_loss: 0.3949\n",
      "Epoch 5/600\n",
      "80/80 [==============================] - 0s 3ms/step - loss: 0.4385 - val_loss: 0.3622\n",
      "Epoch 6/600\n",
      "80/80 [==============================] - 0s 3ms/step - loss: 0.4173 - val_loss: 0.3436\n",
      "Epoch 7/600\n",
      "80/80 [==============================] - 0s 3ms/step - loss: 0.3935 - val_loss: 0.3301\n",
      "Epoch 8/600\n",
      "80/80 [==============================] - 0s 3ms/step - loss: 0.3806 - val_loss: 0.3199\n",
      "Epoch 9/600\n",
      "80/80 [==============================] - 0s 2ms/step - loss: 0.3646 - val_loss: 0.3089\n",
      "Epoch 10/600\n",
      "80/80 [==============================] - 0s 2ms/step - loss: 0.3616 - val_loss: 0.2998\n",
      "Epoch 11/600\n",
      "80/80 [==============================] - 0s 2ms/step - loss: 0.3506 - val_loss: 0.2932\n",
      "Epoch 12/600\n",
      "80/80 [==============================] - 0s 3ms/step - loss: 0.3349 - val_loss: 0.2896\n",
      "Epoch 13/600\n",
      "80/80 [==============================] - 0s 3ms/step - loss: 0.3364 - val_loss: 0.2832\n",
      "Epoch 14/600\n",
      "80/80 [==============================] - 0s 2ms/step - loss: 0.3322 - val_loss: 0.2784\n",
      "Epoch 15/600\n",
      "80/80 [==============================] - 0s 3ms/step - loss: 0.3242 - val_loss: 0.2726\n",
      "Epoch 16/600\n",
      "80/80 [==============================] - 0s 2ms/step - loss: 0.3099 - val_loss: 0.2729\n",
      "Epoch 17/600\n",
      "80/80 [==============================] - 0s 4ms/step - loss: 0.3156 - val_loss: 0.2720\n",
      "Epoch 18/600\n",
      "80/80 [==============================] - 0s 3ms/step - loss: 0.3013 - val_loss: 0.2614\n",
      "Epoch 19/600\n",
      "80/80 [==============================] - 0s 3ms/step - loss: 0.3140 - val_loss: 0.2623\n",
      "Epoch 20/600\n",
      "80/80 [==============================] - 0s 2ms/step - loss: 0.2969 - val_loss: 0.2606\n",
      "Epoch 21/600\n",
      "80/80 [==============================] - 0s 3ms/step - loss: 0.3010 - val_loss: 0.2581\n",
      "Epoch 22/600\n",
      "80/80 [==============================] - 0s 2ms/step - loss: 0.2988 - val_loss: 0.2559\n",
      "Epoch 23/600\n",
      "80/80 [==============================] - 0s 2ms/step - loss: 0.2941 - val_loss: 0.2578\n",
      "Epoch 24/600\n",
      "80/80 [==============================] - 0s 2ms/step - loss: 0.2781 - val_loss: 0.2565\n",
      "Epoch 25/600\n",
      "80/80 [==============================] - 0s 3ms/step - loss: 0.2862 - val_loss: 0.2554\n",
      "Epoch 26/600\n",
      "80/80 [==============================] - 0s 3ms/step - loss: 0.2877 - val_loss: 0.2484\n",
      "Epoch 27/600\n",
      "80/80 [==============================] - 0s 2ms/step - loss: 0.2873 - val_loss: 0.2502\n",
      "Epoch 28/600\n",
      "80/80 [==============================] - 0s 2ms/step - loss: 0.2825 - val_loss: 0.2471\n",
      "Epoch 29/600\n",
      "80/80 [==============================] - 0s 2ms/step - loss: 0.2709 - val_loss: 0.2493\n",
      "Epoch 30/600\n",
      "80/80 [==============================] - 0s 2ms/step - loss: 0.2737 - val_loss: 0.2495\n",
      "Epoch 31/600\n",
      "80/80 [==============================] - 0s 3ms/step - loss: 0.2742 - val_loss: 0.2447\n",
      "Epoch 32/600\n",
      "80/80 [==============================] - 0s 3ms/step - loss: 0.2803 - val_loss: 0.2577\n",
      "Epoch 33/600\n",
      "80/80 [==============================] - 0s 3ms/step - loss: 0.2801 - val_loss: 0.2446\n",
      "Epoch 34/600\n",
      "80/80 [==============================] - 0s 3ms/step - loss: 0.2706 - val_loss: 0.2438\n",
      "Epoch 35/600\n",
      "80/80 [==============================] - 0s 5ms/step - loss: 0.2624 - val_loss: 0.2425\n",
      "Epoch 36/600\n",
      "80/80 [==============================] - 0s 3ms/step - loss: 0.2649 - val_loss: 0.2486\n",
      "Epoch 37/600\n",
      "80/80 [==============================] - 0s 3ms/step - loss: 0.2699 - val_loss: 0.2417\n",
      "Epoch 38/600\n",
      "80/80 [==============================] - 0s 2ms/step - loss: 0.2621 - val_loss: 0.2467\n",
      "Epoch 39/600\n",
      "80/80 [==============================] - 0s 3ms/step - loss: 0.2621 - val_loss: 0.2416\n",
      "Epoch 40/600\n",
      "80/80 [==============================] - 0s 2ms/step - loss: 0.2664 - val_loss: 0.2391\n",
      "Epoch 41/600\n",
      "80/80 [==============================] - 0s 2ms/step - loss: 0.2627 - val_loss: 0.2419\n",
      "Epoch 42/600\n",
      "80/80 [==============================] - 0s 3ms/step - loss: 0.2501 - val_loss: 0.2474\n",
      "Epoch 43/600\n",
      "80/80 [==============================] - 0s 3ms/step - loss: 0.2580 - val_loss: 0.2427\n",
      "Epoch 44/600\n",
      "80/80 [==============================] - 0s 3ms/step - loss: 0.2501 - val_loss: 0.2429\n",
      "Epoch 45/600\n",
      "80/80 [==============================] - 0s 2ms/step - loss: 0.2634 - val_loss: 0.2404\n",
      "Epoch 46/600\n",
      "80/80 [==============================] - 0s 2ms/step - loss: 0.2486 - val_loss: 0.2402\n",
      "Epoch 47/600\n",
      "80/80 [==============================] - 0s 2ms/step - loss: 0.2506 - val_loss: 0.2547\n",
      "Epoch 48/600\n",
      "80/80 [==============================] - 0s 5ms/step - loss: 0.2471 - val_loss: 0.2422\n",
      "Epoch 49/600\n",
      "80/80 [==============================] - 0s 3ms/step - loss: 0.2602 - val_loss: 0.2409\n",
      "Epoch 50/600\n",
      "80/80 [==============================] - 0s 4ms/step - loss: 0.2591 - val_loss: 0.2386\n",
      "Epoch 51/600\n",
      "80/80 [==============================] - 0s 3ms/step - loss: 0.2444 - val_loss: 0.2395\n",
      "Epoch 52/600\n",
      "80/80 [==============================] - 0s 3ms/step - loss: 0.2445 - val_loss: 0.2377\n",
      "Epoch 53/600\n",
      "80/80 [==============================] - 0s 2ms/step - loss: 0.2514 - val_loss: 0.2428\n",
      "Epoch 54/600\n",
      "80/80 [==============================] - 0s 3ms/step - loss: 0.2574 - val_loss: 0.2383\n",
      "Epoch 55/600\n",
      "80/80 [==============================] - 0s 3ms/step - loss: 0.2450 - val_loss: 0.2359\n",
      "Epoch 56/600\n",
      "80/80 [==============================] - 0s 3ms/step - loss: 0.2431 - val_loss: 0.2433\n",
      "Epoch 57/600\n",
      "80/80 [==============================] - 0s 3ms/step - loss: 0.2429 - val_loss: 0.2368\n",
      "Epoch 58/600\n",
      "80/80 [==============================] - 0s 3ms/step - loss: 0.2434 - val_loss: 0.2406\n",
      "Epoch 59/600\n",
      "80/80 [==============================] - 0s 2ms/step - loss: 0.2520 - val_loss: 0.2400\n",
      "Epoch 60/600\n",
      "80/80 [==============================] - 0s 3ms/step - loss: 0.2463 - val_loss: 0.2404\n",
      "Epoch 61/600\n",
      "80/80 [==============================] - 0s 3ms/step - loss: 0.2411 - val_loss: 0.2350\n",
      "Epoch 62/600\n",
      "80/80 [==============================] - 0s 3ms/step - loss: 0.2376 - val_loss: 0.2387\n",
      "Epoch 63/600\n",
      "80/80 [==============================] - 0s 3ms/step - loss: 0.2340 - val_loss: 0.2407\n",
      "Epoch 64/600\n",
      "80/80 [==============================] - 0s 3ms/step - loss: 0.2379 - val_loss: 0.2376\n",
      "Epoch 65/600\n",
      "80/80 [==============================] - 0s 5ms/step - loss: 0.2405 - val_loss: 0.2482\n",
      "Epoch 66/600\n",
      "80/80 [==============================] - 0s 3ms/step - loss: 0.2372 - val_loss: 0.2445\n",
      "Epoch 67/600\n",
      "80/80 [==============================] - 0s 2ms/step - loss: 0.2314 - val_loss: 0.2439\n",
      "Epoch 68/600\n",
      "80/80 [==============================] - 0s 2ms/step - loss: 0.2367 - val_loss: 0.2402\n",
      "Epoch 69/600\n",
      "80/80 [==============================] - 0s 3ms/step - loss: 0.2438 - val_loss: 0.2410\n",
      "Epoch 70/600\n",
      "80/80 [==============================] - 0s 3ms/step - loss: 0.2321 - val_loss: 0.2423\n",
      "Epoch 71/600\n",
      "80/80 [==============================] - 0s 2ms/step - loss: 0.2366 - val_loss: 0.2485\n",
      "Epoch 72/600\n",
      "80/80 [==============================] - 0s 2ms/step - loss: 0.2224 - val_loss: 0.2460\n",
      "Epoch 73/600\n",
      "80/80 [==============================] - 0s 3ms/step - loss: 0.2370 - val_loss: 0.2386\n",
      "Epoch 74/600\n",
      "80/80 [==============================] - 0s 3ms/step - loss: 0.2335 - val_loss: 0.2573\n",
      "Epoch 75/600\n",
      "80/80 [==============================] - 0s 3ms/step - loss: 0.2402 - val_loss: 0.2519\n",
      "Epoch 76/600\n",
      "80/80 [==============================] - 0s 3ms/step - loss: 0.2347 - val_loss: 0.2430\n",
      "Epoch 77/600\n",
      "45/80 [===============>..............] - ETA: 0s - loss: 0.2529"
     ]
    }
   ],
   "source": [
    "model.fit(x=X_train,y=y_train,epochs=600,validation_data=(X_test,y_test),callbacks=[early_stop,board])"
   ]
  },
  {
   "cell_type": "markdown",
   "id": "21abfece",
   "metadata": {},
   "source": [
    "## Save Model"
   ]
  },
  {
   "cell_type": "code",
   "execution_count": null,
   "id": "edbb7749",
   "metadata": {},
   "outputs": [],
   "source": [
    "from tensorflow.keras.models import load_model"
   ]
  },
  {
   "cell_type": "code",
   "execution_count": null,
   "id": "6eb24bb6",
   "metadata": {},
   "outputs": [],
   "source": [
    "model.save('drop_out_predict_model.h5')"
   ]
  },
  {
   "cell_type": "code",
   "execution_count": null,
   "id": "c7298ba3",
   "metadata": {},
   "outputs": [],
   "source": [
    "later_model = load_model('drop_out_predict_model.h5')"
   ]
  },
  {
   "cell_type": "markdown",
   "id": "de0eccc7",
   "metadata": {},
   "source": [
    "# Evaluating Model"
   ]
  },
  {
   "cell_type": "code",
   "execution_count": null,
   "id": "6f36e076",
   "metadata": {},
   "outputs": [],
   "source": [
    "losses = pd.DataFrame(model.history.history)"
   ]
  },
  {
   "cell_type": "code",
   "execution_count": null,
   "id": "4952f4c9",
   "metadata": {},
   "outputs": [],
   "source": [
    "losses.plot()\n",
    "plt.savefig('losses.png')"
   ]
  },
  {
   "cell_type": "markdown",
   "id": "35832f51",
   "metadata": {},
   "source": [
    "**Test on a random student**"
   ]
  },
  {
   "cell_type": "code",
   "execution_count": null,
   "id": "fbd405d8",
   "metadata": {},
   "outputs": [],
   "source": [
    "import random\n",
    "random.seed(101)\n",
    "random_ind = random.randint(0,len(df))\n",
    "\n",
    "new_student = df.drop('Target',axis=1).iloc[random_ind]\n",
    "new_student"
   ]
  },
  {
   "cell_type": "code",
   "execution_count": null,
   "id": "829a059f",
   "metadata": {},
   "outputs": [],
   "source": [
    "(model.predict(new_student.values.reshape(1,35)) > 0.5).astype(\"int32\")"
   ]
  },
  {
   "cell_type": "markdown",
   "id": "bc4522c3",
   "metadata": {},
   "source": [
    "**Model predicts this student will drop out**"
   ]
  },
  {
   "cell_type": "code",
   "execution_count": null,
   "id": "54c359de",
   "metadata": {
    "scrolled": true
   },
   "outputs": [],
   "source": [
    "df.iloc[random_ind]['Target']"
   ]
  },
  {
   "cell_type": "markdown",
   "id": "440f2bb5",
   "metadata": {},
   "source": [
    "**Real result is that this student actually droped out**"
   ]
  },
  {
   "cell_type": "code",
   "execution_count": null,
   "id": "37a9ceea",
   "metadata": {},
   "outputs": [],
   "source": [
    "from sklearn.metrics import classification_report,confusion_matrix,accuracy_score"
   ]
  },
  {
   "cell_type": "code",
   "execution_count": null,
   "id": "e7ec702b",
   "metadata": {},
   "outputs": [],
   "source": [
    "predictions = (model.predict(X_test) > 0.5).astype(\"int32\")"
   ]
  },
  {
   "cell_type": "code",
   "execution_count": null,
   "id": "4584b0d3",
   "metadata": {},
   "outputs": [],
   "source": [
    "print('Accuracy Score:',accuracy_score(y_test,predictions))\n",
    "print('\\n')\n",
    "print(classification_report(y_test,predictions))\n",
    "print('\\n')\n",
    "print(confusion_matrix(y_test,predictions))"
   ]
  }
 ],
 "metadata": {
  "kernelspec": {
   "display_name": "Python 3",
   "language": "python",
   "name": "python3"
  },
  "language_info": {
   "codemirror_mode": {
    "name": "ipython",
    "version": 3
   },
   "file_extension": ".py",
   "mimetype": "text/x-python",
   "name": "python",
   "nbconvert_exporter": "python",
   "pygments_lexer": "ipython3",
   "version": "3.8.8"
  }
 },
 "nbformat": 4,
 "nbformat_minor": 5
}
