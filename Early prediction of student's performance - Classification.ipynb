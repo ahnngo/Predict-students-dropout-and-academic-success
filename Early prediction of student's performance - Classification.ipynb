{
 "cells": [
  {
   "cell_type": "code",
   "execution_count": 1,
   "id": "b97f857a",
   "metadata": {},
   "outputs": [],
   "source": [
    "import numpy as np\n",
    "import pandas as pd"
   ]
  },
  {
   "cell_type": "code",
   "execution_count": 2,
   "id": "891be95e",
   "metadata": {},
   "outputs": [],
   "source": [
    "import matplotlib.pyplot as plt\n",
    "import seaborn as sns"
   ]
  },
  {
   "cell_type": "code",
   "execution_count": 3,
   "id": "8ae2b430",
   "metadata": {},
   "outputs": [],
   "source": [
    "%matplotlib inline"
   ]
  },
  {
   "cell_type": "code",
   "execution_count": 4,
   "id": "8c65a909",
   "metadata": {},
   "outputs": [],
   "source": [
    "from sklearn.metrics import classification_report,confusion_matrix"
   ]
  },
  {
   "cell_type": "code",
   "execution_count": 5,
   "id": "985fa1f0",
   "metadata": {},
   "outputs": [],
   "source": [
    "df = pd.read_csv(\"data.txt\")"
   ]
  },
  {
   "cell_type": "code",
   "execution_count": 6,
   "id": "be81b131",
   "metadata": {},
   "outputs": [
    {
     "data": {
      "text/html": [
       "<div>\n",
       "<style scoped>\n",
       "    .dataframe tbody tr th:only-of-type {\n",
       "        vertical-align: middle;\n",
       "    }\n",
       "\n",
       "    .dataframe tbody tr th {\n",
       "        vertical-align: top;\n",
       "    }\n",
       "\n",
       "    .dataframe thead th {\n",
       "        text-align: right;\n",
       "    }\n",
       "</style>\n",
       "<table border=\"1\" class=\"dataframe\">\n",
       "  <thead>\n",
       "    <tr style=\"text-align: right;\">\n",
       "      <th></th>\n",
       "      <th>Marital status</th>\n",
       "      <th>Application mode</th>\n",
       "      <th>Application order</th>\n",
       "      <th>Course</th>\n",
       "      <th>Daytime/evening attendance\\t</th>\n",
       "      <th>Previous qualification</th>\n",
       "      <th>Previous qualification (grade)</th>\n",
       "      <th>Nacionality</th>\n",
       "      <th>Mother's qualification</th>\n",
       "      <th>Father's qualification</th>\n",
       "      <th>...</th>\n",
       "      <th>Curricular units 2nd sem (credited)</th>\n",
       "      <th>Curricular units 2nd sem (enrolled)</th>\n",
       "      <th>Curricular units 2nd sem (evaluations)</th>\n",
       "      <th>Curricular units 2nd sem (approved)</th>\n",
       "      <th>Curricular units 2nd sem (grade)</th>\n",
       "      <th>Curricular units 2nd sem (without evaluations)</th>\n",
       "      <th>Unemployment rate</th>\n",
       "      <th>Inflation rate</th>\n",
       "      <th>GDP</th>\n",
       "      <th>Target</th>\n",
       "    </tr>\n",
       "  </thead>\n",
       "  <tbody>\n",
       "    <tr>\n",
       "      <th>0</th>\n",
       "      <td>1</td>\n",
       "      <td>17</td>\n",
       "      <td>5</td>\n",
       "      <td>171</td>\n",
       "      <td>1</td>\n",
       "      <td>1</td>\n",
       "      <td>122.0</td>\n",
       "      <td>1</td>\n",
       "      <td>19</td>\n",
       "      <td>12</td>\n",
       "      <td>...</td>\n",
       "      <td>0</td>\n",
       "      <td>0</td>\n",
       "      <td>0</td>\n",
       "      <td>0</td>\n",
       "      <td>0.000000</td>\n",
       "      <td>0</td>\n",
       "      <td>10.8</td>\n",
       "      <td>1.4</td>\n",
       "      <td>1.74</td>\n",
       "      <td>Dropout</td>\n",
       "    </tr>\n",
       "    <tr>\n",
       "      <th>1</th>\n",
       "      <td>1</td>\n",
       "      <td>15</td>\n",
       "      <td>1</td>\n",
       "      <td>9254</td>\n",
       "      <td>1</td>\n",
       "      <td>1</td>\n",
       "      <td>160.0</td>\n",
       "      <td>1</td>\n",
       "      <td>1</td>\n",
       "      <td>3</td>\n",
       "      <td>...</td>\n",
       "      <td>0</td>\n",
       "      <td>6</td>\n",
       "      <td>6</td>\n",
       "      <td>6</td>\n",
       "      <td>13.666667</td>\n",
       "      <td>0</td>\n",
       "      <td>13.9</td>\n",
       "      <td>-0.3</td>\n",
       "      <td>0.79</td>\n",
       "      <td>Graduate</td>\n",
       "    </tr>\n",
       "    <tr>\n",
       "      <th>2</th>\n",
       "      <td>1</td>\n",
       "      <td>1</td>\n",
       "      <td>5</td>\n",
       "      <td>9070</td>\n",
       "      <td>1</td>\n",
       "      <td>1</td>\n",
       "      <td>122.0</td>\n",
       "      <td>1</td>\n",
       "      <td>37</td>\n",
       "      <td>37</td>\n",
       "      <td>...</td>\n",
       "      <td>0</td>\n",
       "      <td>6</td>\n",
       "      <td>0</td>\n",
       "      <td>0</td>\n",
       "      <td>0.000000</td>\n",
       "      <td>0</td>\n",
       "      <td>10.8</td>\n",
       "      <td>1.4</td>\n",
       "      <td>1.74</td>\n",
       "      <td>Dropout</td>\n",
       "    </tr>\n",
       "    <tr>\n",
       "      <th>3</th>\n",
       "      <td>1</td>\n",
       "      <td>17</td>\n",
       "      <td>2</td>\n",
       "      <td>9773</td>\n",
       "      <td>1</td>\n",
       "      <td>1</td>\n",
       "      <td>122.0</td>\n",
       "      <td>1</td>\n",
       "      <td>38</td>\n",
       "      <td>37</td>\n",
       "      <td>...</td>\n",
       "      <td>0</td>\n",
       "      <td>6</td>\n",
       "      <td>10</td>\n",
       "      <td>5</td>\n",
       "      <td>12.400000</td>\n",
       "      <td>0</td>\n",
       "      <td>9.4</td>\n",
       "      <td>-0.8</td>\n",
       "      <td>-3.12</td>\n",
       "      <td>Graduate</td>\n",
       "    </tr>\n",
       "    <tr>\n",
       "      <th>4</th>\n",
       "      <td>2</td>\n",
       "      <td>39</td>\n",
       "      <td>1</td>\n",
       "      <td>8014</td>\n",
       "      <td>0</td>\n",
       "      <td>1</td>\n",
       "      <td>100.0</td>\n",
       "      <td>1</td>\n",
       "      <td>37</td>\n",
       "      <td>38</td>\n",
       "      <td>...</td>\n",
       "      <td>0</td>\n",
       "      <td>6</td>\n",
       "      <td>6</td>\n",
       "      <td>6</td>\n",
       "      <td>13.000000</td>\n",
       "      <td>0</td>\n",
       "      <td>13.9</td>\n",
       "      <td>-0.3</td>\n",
       "      <td>0.79</td>\n",
       "      <td>Graduate</td>\n",
       "    </tr>\n",
       "  </tbody>\n",
       "</table>\n",
       "<p>5 rows × 37 columns</p>\n",
       "</div>"
      ],
      "text/plain": [
       "   Marital status  Application mode  Application order  Course  \\\n",
       "0               1                17                  5     171   \n",
       "1               1                15                  1    9254   \n",
       "2               1                 1                  5    9070   \n",
       "3               1                17                  2    9773   \n",
       "4               2                39                  1    8014   \n",
       "\n",
       "   Daytime/evening attendance\\t  Previous qualification  \\\n",
       "0                             1                       1   \n",
       "1                             1                       1   \n",
       "2                             1                       1   \n",
       "3                             1                       1   \n",
       "4                             0                       1   \n",
       "\n",
       "   Previous qualification (grade)  Nacionality  Mother's qualification  \\\n",
       "0                           122.0            1                      19   \n",
       "1                           160.0            1                       1   \n",
       "2                           122.0            1                      37   \n",
       "3                           122.0            1                      38   \n",
       "4                           100.0            1                      37   \n",
       "\n",
       "   Father's qualification  ...  Curricular units 2nd sem (credited)  \\\n",
       "0                      12  ...                                    0   \n",
       "1                       3  ...                                    0   \n",
       "2                      37  ...                                    0   \n",
       "3                      37  ...                                    0   \n",
       "4                      38  ...                                    0   \n",
       "\n",
       "   Curricular units 2nd sem (enrolled)  \\\n",
       "0                                    0   \n",
       "1                                    6   \n",
       "2                                    6   \n",
       "3                                    6   \n",
       "4                                    6   \n",
       "\n",
       "   Curricular units 2nd sem (evaluations)  \\\n",
       "0                                       0   \n",
       "1                                       6   \n",
       "2                                       0   \n",
       "3                                      10   \n",
       "4                                       6   \n",
       "\n",
       "   Curricular units 2nd sem (approved)  Curricular units 2nd sem (grade)  \\\n",
       "0                                    0                          0.000000   \n",
       "1                                    6                         13.666667   \n",
       "2                                    0                          0.000000   \n",
       "3                                    5                         12.400000   \n",
       "4                                    6                         13.000000   \n",
       "\n",
       "   Curricular units 2nd sem (without evaluations)  Unemployment rate  \\\n",
       "0                                               0               10.8   \n",
       "1                                               0               13.9   \n",
       "2                                               0               10.8   \n",
       "3                                               0                9.4   \n",
       "4                                               0               13.9   \n",
       "\n",
       "   Inflation rate   GDP    Target  \n",
       "0             1.4  1.74   Dropout  \n",
       "1            -0.3  0.79  Graduate  \n",
       "2             1.4  1.74   Dropout  \n",
       "3            -0.8 -3.12  Graduate  \n",
       "4            -0.3  0.79  Graduate  \n",
       "\n",
       "[5 rows x 37 columns]"
      ]
     },
     "execution_count": 6,
     "metadata": {},
     "output_type": "execute_result"
    }
   ],
   "source": [
    "df.head()"
   ]
  },
  {
   "cell_type": "code",
   "execution_count": 7,
   "id": "200e35bf",
   "metadata": {
    "scrolled": false
   },
   "outputs": [
    {
     "name": "stdout",
     "output_type": "stream",
     "text": [
      "<class 'pandas.core.frame.DataFrame'>\n",
      "RangeIndex: 4424 entries, 0 to 4423\n",
      "Data columns (total 37 columns):\n",
      " #   Column                                          Non-Null Count  Dtype  \n",
      "---  ------                                          --------------  -----  \n",
      " 0   Marital status                                  4424 non-null   int64  \n",
      " 1   Application mode                                4424 non-null   int64  \n",
      " 2   Application order                               4424 non-null   int64  \n",
      " 3   Course                                          4424 non-null   int64  \n",
      " 4   Daytime/evening attendance\t                     4424 non-null   int64  \n",
      " 5   Previous qualification                          4424 non-null   int64  \n",
      " 6   Previous qualification (grade)                  4424 non-null   float64\n",
      " 7   Nacionality                                     4424 non-null   int64  \n",
      " 8   Mother's qualification                          4424 non-null   int64  \n",
      " 9   Father's qualification                          4424 non-null   int64  \n",
      " 10  Mother's occupation                             4424 non-null   int64  \n",
      " 11  Father's occupation                             4424 non-null   int64  \n",
      " 12  Admission grade                                 4424 non-null   float64\n",
      " 13  Displaced                                       4424 non-null   int64  \n",
      " 14  Educational special needs                       4424 non-null   int64  \n",
      " 15  Debtor                                          4424 non-null   int64  \n",
      " 16  Tuition fees up to date                         4424 non-null   int64  \n",
      " 17  Gender                                          4424 non-null   int64  \n",
      " 18  Scholarship holder                              4424 non-null   int64  \n",
      " 19  Age at enrollment                               4424 non-null   int64  \n",
      " 20  International                                   4424 non-null   int64  \n",
      " 21  Curricular units 1st sem (credited)             4424 non-null   int64  \n",
      " 22  Curricular units 1st sem (enrolled)             4424 non-null   int64  \n",
      " 23  Curricular units 1st sem (evaluations)          4424 non-null   int64  \n",
      " 24  Curricular units 1st sem (approved)             4424 non-null   int64  \n",
      " 25  Curricular units 1st sem (grade)                4424 non-null   float64\n",
      " 26  Curricular units 1st sem (without evaluations)  4424 non-null   int64  \n",
      " 27  Curricular units 2nd sem (credited)             4424 non-null   int64  \n",
      " 28  Curricular units 2nd sem (enrolled)             4424 non-null   int64  \n",
      " 29  Curricular units 2nd sem (evaluations)          4424 non-null   int64  \n",
      " 30  Curricular units 2nd sem (approved)             4424 non-null   int64  \n",
      " 31  Curricular units 2nd sem (grade)                4424 non-null   float64\n",
      " 32  Curricular units 2nd sem (without evaluations)  4424 non-null   int64  \n",
      " 33  Unemployment rate                               4424 non-null   float64\n",
      " 34  Inflation rate                                  4424 non-null   float64\n",
      " 35  GDP                                             4424 non-null   float64\n",
      " 36  Target                                          4424 non-null   object \n",
      "dtypes: float64(7), int64(29), object(1)\n",
      "memory usage: 1.2+ MB\n"
     ]
    }
   ],
   "source": [
    "df.info()"
   ]
  },
  {
   "cell_type": "code",
   "execution_count": 8,
   "id": "bf81d69b",
   "metadata": {
    "scrolled": false
   },
   "outputs": [
    {
     "data": {
      "text/html": [
       "<div>\n",
       "<style scoped>\n",
       "    .dataframe tbody tr th:only-of-type {\n",
       "        vertical-align: middle;\n",
       "    }\n",
       "\n",
       "    .dataframe tbody tr th {\n",
       "        vertical-align: top;\n",
       "    }\n",
       "\n",
       "    .dataframe thead th {\n",
       "        text-align: right;\n",
       "    }\n",
       "</style>\n",
       "<table border=\"1\" class=\"dataframe\">\n",
       "  <thead>\n",
       "    <tr style=\"text-align: right;\">\n",
       "      <th></th>\n",
       "      <th>Marital status</th>\n",
       "      <th>Application mode</th>\n",
       "      <th>Application order</th>\n",
       "      <th>Course</th>\n",
       "      <th>Daytime/evening attendance\\t</th>\n",
       "      <th>Previous qualification</th>\n",
       "      <th>Previous qualification (grade)</th>\n",
       "      <th>Nacionality</th>\n",
       "      <th>Mother's qualification</th>\n",
       "      <th>Father's qualification</th>\n",
       "      <th>...</th>\n",
       "      <th>Curricular units 1st sem (without evaluations)</th>\n",
       "      <th>Curricular units 2nd sem (credited)</th>\n",
       "      <th>Curricular units 2nd sem (enrolled)</th>\n",
       "      <th>Curricular units 2nd sem (evaluations)</th>\n",
       "      <th>Curricular units 2nd sem (approved)</th>\n",
       "      <th>Curricular units 2nd sem (grade)</th>\n",
       "      <th>Curricular units 2nd sem (without evaluations)</th>\n",
       "      <th>Unemployment rate</th>\n",
       "      <th>Inflation rate</th>\n",
       "      <th>GDP</th>\n",
       "    </tr>\n",
       "  </thead>\n",
       "  <tbody>\n",
       "    <tr>\n",
       "      <th>count</th>\n",
       "      <td>4424.000000</td>\n",
       "      <td>4424.000000</td>\n",
       "      <td>4424.000000</td>\n",
       "      <td>4424.000000</td>\n",
       "      <td>4424.000000</td>\n",
       "      <td>4424.000000</td>\n",
       "      <td>4424.000000</td>\n",
       "      <td>4424.000000</td>\n",
       "      <td>4424.000000</td>\n",
       "      <td>4424.000000</td>\n",
       "      <td>...</td>\n",
       "      <td>4424.000000</td>\n",
       "      <td>4424.000000</td>\n",
       "      <td>4424.000000</td>\n",
       "      <td>4424.000000</td>\n",
       "      <td>4424.000000</td>\n",
       "      <td>4424.000000</td>\n",
       "      <td>4424.000000</td>\n",
       "      <td>4424.000000</td>\n",
       "      <td>4424.000000</td>\n",
       "      <td>4424.000000</td>\n",
       "    </tr>\n",
       "    <tr>\n",
       "      <th>mean</th>\n",
       "      <td>1.178571</td>\n",
       "      <td>18.669078</td>\n",
       "      <td>1.727848</td>\n",
       "      <td>8856.642631</td>\n",
       "      <td>0.890823</td>\n",
       "      <td>4.577758</td>\n",
       "      <td>132.613314</td>\n",
       "      <td>1.873192</td>\n",
       "      <td>19.561935</td>\n",
       "      <td>22.275316</td>\n",
       "      <td>...</td>\n",
       "      <td>0.137658</td>\n",
       "      <td>0.541817</td>\n",
       "      <td>6.232143</td>\n",
       "      <td>8.063291</td>\n",
       "      <td>4.435805</td>\n",
       "      <td>10.230206</td>\n",
       "      <td>0.150316</td>\n",
       "      <td>11.566139</td>\n",
       "      <td>1.228029</td>\n",
       "      <td>0.001969</td>\n",
       "    </tr>\n",
       "    <tr>\n",
       "      <th>std</th>\n",
       "      <td>0.605747</td>\n",
       "      <td>17.484682</td>\n",
       "      <td>1.313793</td>\n",
       "      <td>2063.566416</td>\n",
       "      <td>0.311897</td>\n",
       "      <td>10.216592</td>\n",
       "      <td>13.188332</td>\n",
       "      <td>6.914514</td>\n",
       "      <td>15.603186</td>\n",
       "      <td>15.343108</td>\n",
       "      <td>...</td>\n",
       "      <td>0.690880</td>\n",
       "      <td>1.918546</td>\n",
       "      <td>2.195951</td>\n",
       "      <td>3.947951</td>\n",
       "      <td>3.014764</td>\n",
       "      <td>5.210808</td>\n",
       "      <td>0.753774</td>\n",
       "      <td>2.663850</td>\n",
       "      <td>1.382711</td>\n",
       "      <td>2.269935</td>\n",
       "    </tr>\n",
       "    <tr>\n",
       "      <th>min</th>\n",
       "      <td>1.000000</td>\n",
       "      <td>1.000000</td>\n",
       "      <td>0.000000</td>\n",
       "      <td>33.000000</td>\n",
       "      <td>0.000000</td>\n",
       "      <td>1.000000</td>\n",
       "      <td>95.000000</td>\n",
       "      <td>1.000000</td>\n",
       "      <td>1.000000</td>\n",
       "      <td>1.000000</td>\n",
       "      <td>...</td>\n",
       "      <td>0.000000</td>\n",
       "      <td>0.000000</td>\n",
       "      <td>0.000000</td>\n",
       "      <td>0.000000</td>\n",
       "      <td>0.000000</td>\n",
       "      <td>0.000000</td>\n",
       "      <td>0.000000</td>\n",
       "      <td>7.600000</td>\n",
       "      <td>-0.800000</td>\n",
       "      <td>-4.060000</td>\n",
       "    </tr>\n",
       "    <tr>\n",
       "      <th>25%</th>\n",
       "      <td>1.000000</td>\n",
       "      <td>1.000000</td>\n",
       "      <td>1.000000</td>\n",
       "      <td>9085.000000</td>\n",
       "      <td>1.000000</td>\n",
       "      <td>1.000000</td>\n",
       "      <td>125.000000</td>\n",
       "      <td>1.000000</td>\n",
       "      <td>2.000000</td>\n",
       "      <td>3.000000</td>\n",
       "      <td>...</td>\n",
       "      <td>0.000000</td>\n",
       "      <td>0.000000</td>\n",
       "      <td>5.000000</td>\n",
       "      <td>6.000000</td>\n",
       "      <td>2.000000</td>\n",
       "      <td>10.750000</td>\n",
       "      <td>0.000000</td>\n",
       "      <td>9.400000</td>\n",
       "      <td>0.300000</td>\n",
       "      <td>-1.700000</td>\n",
       "    </tr>\n",
       "    <tr>\n",
       "      <th>50%</th>\n",
       "      <td>1.000000</td>\n",
       "      <td>17.000000</td>\n",
       "      <td>1.000000</td>\n",
       "      <td>9238.000000</td>\n",
       "      <td>1.000000</td>\n",
       "      <td>1.000000</td>\n",
       "      <td>133.100000</td>\n",
       "      <td>1.000000</td>\n",
       "      <td>19.000000</td>\n",
       "      <td>19.000000</td>\n",
       "      <td>...</td>\n",
       "      <td>0.000000</td>\n",
       "      <td>0.000000</td>\n",
       "      <td>6.000000</td>\n",
       "      <td>8.000000</td>\n",
       "      <td>5.000000</td>\n",
       "      <td>12.200000</td>\n",
       "      <td>0.000000</td>\n",
       "      <td>11.100000</td>\n",
       "      <td>1.400000</td>\n",
       "      <td>0.320000</td>\n",
       "    </tr>\n",
       "    <tr>\n",
       "      <th>75%</th>\n",
       "      <td>1.000000</td>\n",
       "      <td>39.000000</td>\n",
       "      <td>2.000000</td>\n",
       "      <td>9556.000000</td>\n",
       "      <td>1.000000</td>\n",
       "      <td>1.000000</td>\n",
       "      <td>140.000000</td>\n",
       "      <td>1.000000</td>\n",
       "      <td>37.000000</td>\n",
       "      <td>37.000000</td>\n",
       "      <td>...</td>\n",
       "      <td>0.000000</td>\n",
       "      <td>0.000000</td>\n",
       "      <td>7.000000</td>\n",
       "      <td>10.000000</td>\n",
       "      <td>6.000000</td>\n",
       "      <td>13.333333</td>\n",
       "      <td>0.000000</td>\n",
       "      <td>13.900000</td>\n",
       "      <td>2.600000</td>\n",
       "      <td>1.790000</td>\n",
       "    </tr>\n",
       "    <tr>\n",
       "      <th>max</th>\n",
       "      <td>6.000000</td>\n",
       "      <td>57.000000</td>\n",
       "      <td>9.000000</td>\n",
       "      <td>9991.000000</td>\n",
       "      <td>1.000000</td>\n",
       "      <td>43.000000</td>\n",
       "      <td>190.000000</td>\n",
       "      <td>109.000000</td>\n",
       "      <td>44.000000</td>\n",
       "      <td>44.000000</td>\n",
       "      <td>...</td>\n",
       "      <td>12.000000</td>\n",
       "      <td>19.000000</td>\n",
       "      <td>23.000000</td>\n",
       "      <td>33.000000</td>\n",
       "      <td>20.000000</td>\n",
       "      <td>18.571429</td>\n",
       "      <td>12.000000</td>\n",
       "      <td>16.200000</td>\n",
       "      <td>3.700000</td>\n",
       "      <td>3.510000</td>\n",
       "    </tr>\n",
       "  </tbody>\n",
       "</table>\n",
       "<p>8 rows × 36 columns</p>\n",
       "</div>"
      ],
      "text/plain": [
       "       Marital status  Application mode  Application order       Course  \\\n",
       "count     4424.000000       4424.000000        4424.000000  4424.000000   \n",
       "mean         1.178571         18.669078           1.727848  8856.642631   \n",
       "std          0.605747         17.484682           1.313793  2063.566416   \n",
       "min          1.000000          1.000000           0.000000    33.000000   \n",
       "25%          1.000000          1.000000           1.000000  9085.000000   \n",
       "50%          1.000000         17.000000           1.000000  9238.000000   \n",
       "75%          1.000000         39.000000           2.000000  9556.000000   \n",
       "max          6.000000         57.000000           9.000000  9991.000000   \n",
       "\n",
       "       Daytime/evening attendance\\t  Previous qualification  \\\n",
       "count                   4424.000000             4424.000000   \n",
       "mean                       0.890823                4.577758   \n",
       "std                        0.311897               10.216592   \n",
       "min                        0.000000                1.000000   \n",
       "25%                        1.000000                1.000000   \n",
       "50%                        1.000000                1.000000   \n",
       "75%                        1.000000                1.000000   \n",
       "max                        1.000000               43.000000   \n",
       "\n",
       "       Previous qualification (grade)  Nacionality  Mother's qualification  \\\n",
       "count                     4424.000000  4424.000000             4424.000000   \n",
       "mean                       132.613314     1.873192               19.561935   \n",
       "std                         13.188332     6.914514               15.603186   \n",
       "min                         95.000000     1.000000                1.000000   \n",
       "25%                        125.000000     1.000000                2.000000   \n",
       "50%                        133.100000     1.000000               19.000000   \n",
       "75%                        140.000000     1.000000               37.000000   \n",
       "max                        190.000000   109.000000               44.000000   \n",
       "\n",
       "       Father's qualification  ...  \\\n",
       "count             4424.000000  ...   \n",
       "mean                22.275316  ...   \n",
       "std                 15.343108  ...   \n",
       "min                  1.000000  ...   \n",
       "25%                  3.000000  ...   \n",
       "50%                 19.000000  ...   \n",
       "75%                 37.000000  ...   \n",
       "max                 44.000000  ...   \n",
       "\n",
       "       Curricular units 1st sem (without evaluations)  \\\n",
       "count                                     4424.000000   \n",
       "mean                                         0.137658   \n",
       "std                                          0.690880   \n",
       "min                                          0.000000   \n",
       "25%                                          0.000000   \n",
       "50%                                          0.000000   \n",
       "75%                                          0.000000   \n",
       "max                                         12.000000   \n",
       "\n",
       "       Curricular units 2nd sem (credited)  \\\n",
       "count                          4424.000000   \n",
       "mean                              0.541817   \n",
       "std                               1.918546   \n",
       "min                               0.000000   \n",
       "25%                               0.000000   \n",
       "50%                               0.000000   \n",
       "75%                               0.000000   \n",
       "max                              19.000000   \n",
       "\n",
       "       Curricular units 2nd sem (enrolled)  \\\n",
       "count                          4424.000000   \n",
       "mean                              6.232143   \n",
       "std                               2.195951   \n",
       "min                               0.000000   \n",
       "25%                               5.000000   \n",
       "50%                               6.000000   \n",
       "75%                               7.000000   \n",
       "max                              23.000000   \n",
       "\n",
       "       Curricular units 2nd sem (evaluations)  \\\n",
       "count                             4424.000000   \n",
       "mean                                 8.063291   \n",
       "std                                  3.947951   \n",
       "min                                  0.000000   \n",
       "25%                                  6.000000   \n",
       "50%                                  8.000000   \n",
       "75%                                 10.000000   \n",
       "max                                 33.000000   \n",
       "\n",
       "       Curricular units 2nd sem (approved)  Curricular units 2nd sem (grade)  \\\n",
       "count                          4424.000000                       4424.000000   \n",
       "mean                              4.435805                         10.230206   \n",
       "std                               3.014764                          5.210808   \n",
       "min                               0.000000                          0.000000   \n",
       "25%                               2.000000                         10.750000   \n",
       "50%                               5.000000                         12.200000   \n",
       "75%                               6.000000                         13.333333   \n",
       "max                              20.000000                         18.571429   \n",
       "\n",
       "       Curricular units 2nd sem (without evaluations)  Unemployment rate  \\\n",
       "count                                     4424.000000        4424.000000   \n",
       "mean                                         0.150316          11.566139   \n",
       "std                                          0.753774           2.663850   \n",
       "min                                          0.000000           7.600000   \n",
       "25%                                          0.000000           9.400000   \n",
       "50%                                          0.000000          11.100000   \n",
       "75%                                          0.000000          13.900000   \n",
       "max                                         12.000000          16.200000   \n",
       "\n",
       "       Inflation rate          GDP  \n",
       "count     4424.000000  4424.000000  \n",
       "mean         1.228029     0.001969  \n",
       "std          1.382711     2.269935  \n",
       "min         -0.800000    -4.060000  \n",
       "25%          0.300000    -1.700000  \n",
       "50%          1.400000     0.320000  \n",
       "75%          2.600000     1.790000  \n",
       "max          3.700000     3.510000  \n",
       "\n",
       "[8 rows x 36 columns]"
      ]
     },
     "execution_count": 8,
     "metadata": {},
     "output_type": "execute_result"
    }
   ],
   "source": [
    "df.describe()"
   ]
  },
  {
   "cell_type": "markdown",
   "id": "c7e4cd04",
   "metadata": {},
   "source": [
    "# EDA"
   ]
  },
  {
   "cell_type": "code",
   "execution_count": 9,
   "id": "ec08884c",
   "metadata": {},
   "outputs": [
    {
     "data": {
      "text/plain": [
       "array([[<AxesSubplot:title={'center':'Marital status'}>,\n",
       "        <AxesSubplot:title={'center':'Application mode'}>,\n",
       "        <AxesSubplot:title={'center':'Application order'}>,\n",
       "        <AxesSubplot:title={'center':'Course'}>,\n",
       "        <AxesSubplot:title={'center':'Daytime/evening attendance\\t'}>,\n",
       "        <AxesSubplot:title={'center':'Previous qualification'}>],\n",
       "       [<AxesSubplot:title={'center':'Previous qualification (grade)'}>,\n",
       "        <AxesSubplot:title={'center':'Nacionality'}>,\n",
       "        <AxesSubplot:title={'center':\"Mother's qualification\"}>,\n",
       "        <AxesSubplot:title={'center':\"Father's qualification\"}>,\n",
       "        <AxesSubplot:title={'center':\"Mother's occupation\"}>,\n",
       "        <AxesSubplot:title={'center':\"Father's occupation\"}>],\n",
       "       [<AxesSubplot:title={'center':'Admission grade'}>,\n",
       "        <AxesSubplot:title={'center':'Displaced'}>,\n",
       "        <AxesSubplot:title={'center':'Educational special needs'}>,\n",
       "        <AxesSubplot:title={'center':'Debtor'}>,\n",
       "        <AxesSubplot:title={'center':'Tuition fees up to date'}>,\n",
       "        <AxesSubplot:title={'center':'Gender'}>],\n",
       "       [<AxesSubplot:title={'center':'Scholarship holder'}>,\n",
       "        <AxesSubplot:title={'center':'Age at enrollment'}>,\n",
       "        <AxesSubplot:title={'center':'International'}>,\n",
       "        <AxesSubplot:title={'center':'Curricular units 1st sem (credited)'}>,\n",
       "        <AxesSubplot:title={'center':'Curricular units 1st sem (enrolled)'}>,\n",
       "        <AxesSubplot:title={'center':'Curricular units 1st sem (evaluations)'}>],\n",
       "       [<AxesSubplot:title={'center':'Curricular units 1st sem (approved)'}>,\n",
       "        <AxesSubplot:title={'center':'Curricular units 1st sem (grade)'}>,\n",
       "        <AxesSubplot:title={'center':'Curricular units 1st sem (without evaluations)'}>,\n",
       "        <AxesSubplot:title={'center':'Curricular units 2nd sem (credited)'}>,\n",
       "        <AxesSubplot:title={'center':'Curricular units 2nd sem (enrolled)'}>,\n",
       "        <AxesSubplot:title={'center':'Curricular units 2nd sem (evaluations)'}>],\n",
       "       [<AxesSubplot:title={'center':'Curricular units 2nd sem (approved)'}>,\n",
       "        <AxesSubplot:title={'center':'Curricular units 2nd sem (grade)'}>,\n",
       "        <AxesSubplot:title={'center':'Curricular units 2nd sem (without evaluations)'}>,\n",
       "        <AxesSubplot:title={'center':'Unemployment rate'}>,\n",
       "        <AxesSubplot:title={'center':'Inflation rate'}>,\n",
       "        <AxesSubplot:title={'center':'GDP'}>]], dtype=object)"
      ]
     },
     "execution_count": 9,
     "metadata": {},
     "output_type": "execute_result"
    },
    {
     "name": "stderr",
     "output_type": "stream",
     "text": [
      "C:\\Users\\ngoa\\Anaconda3\\lib\\site-packages\\matplotlib\\backends\\backend_agg.py:238: RuntimeWarning: Glyph 9 missing from current font.\n",
      "  font.set_text(s, 0.0, flags=flags)\n",
      "C:\\Users\\ngoa\\Anaconda3\\lib\\site-packages\\matplotlib\\backends\\backend_agg.py:201: RuntimeWarning: Glyph 9 missing from current font.\n",
      "  font.set_text(s, 0, flags=flags)\n"
     ]
    },
    {
     "data": {
      "image/png": "[encoded data removed]",
      "text/plain": [
       "<Figure size 1440x1080 with 36 Axes>"
      ]
     },
     "metadata": {
      "needs_background": "light"
     },
     "output_type": "display_data"
    }
   ],
   "source": [
    "df[df.columns].hist(bins=50, figsize=(20,15))"
   ]
  },
  {
   "cell_type": "markdown",
   "id": "e6b7022e",
   "metadata": {},
   "source": [
    "We can have a good enough idea of numerical features, how do they look like, their common values in a large number of houses and their distribution from above figure. We will not be discussing each feature in detail here. It would also be a good idea to see the correlation among various features."
   ]
  },
  {
   "cell_type": "code",
   "execution_count": 10,
   "id": "62b33e12",
   "metadata": {},
   "outputs": [
    {
     "data": {
      "text/plain": [
       "<AxesSubplot:>"
      ]
     },
     "execution_count": 10,
     "metadata": {},
     "output_type": "execute_result"
    },
    {
     "data": {
      "image/png": "[encoded data removed]",
      "text/plain": [
       "<Figure size 1080x1080 with 2 Axes>"
      ]
     },
     "metadata": {
      "needs_background": "light"
     },
     "output_type": "display_data"
    }
   ],
   "source": [
    "# Plotting a correlation matrix \n",
    "f = plt.figure(figsize=(15, 15))\n",
    "cmap = sns.diverging_palette(230, 20, as_cmap=True)\n",
    "sns.heatmap(df.corr(),annot=False, cmap=cmap,vmax=.3, center=0,\n",
    "            square=True, linewidths=.5, cbar_kws={\"shrink\": .5})"
   ]
  },
  {
   "cell_type": "markdown",
   "id": "7bd6cdb9",
   "metadata": {},
   "source": [
    "We can see from correlation matrix that most features are strongly and positively correlated with eachother (the brighter the orange-ish color, the stronger the positive correlation and strong blue color denotes to strong negative correlation) and a very few are negatively coorelated. Only a few features are weakly correlated positive or negative."
   ]
  },
  {
   "cell_type": "code",
   "execution_count": 11,
   "id": "43024c3a",
   "metadata": {
    "scrolled": true
   },
   "outputs": [
    {
     "data": {
      "text/plain": [
       "<AxesSubplot:xlabel='Unemployment rate', ylabel='Count'>"
      ]
     },
     "execution_count": 11,
     "metadata": {},
     "output_type": "execute_result"
    },
    {
     "data": {
      "image/png": "[encoded data removed]",
      "text/plain": [
       "<Figure size 432x288 with 1 Axes>"
      ]
     },
     "metadata": {
      "needs_background": "light"
     },
     "output_type": "display_data"
    }
   ],
   "source": [
    "sns.histplot(x='Unemployment rate',data=df,hue='Target')"
   ]
  },
  {
   "cell_type": "markdown",
   "id": "93ecfa43",
   "metadata": {},
   "source": [
    "It is surprising to know that the the higher the unemployment is, the less likely that a student will drop out. In fact, this makes sense because if unemployment is low, which means the demand of labor is high, a job seeker has higher chance to have a job. This undermines the need of earning a degree. When unemployment is high, a job seeker is expected to be more competative to be able to have a job. "
   ]
  },
  {
   "cell_type": "code",
   "execution_count": 12,
   "id": "68fa1b38",
   "metadata": {},
   "outputs": [
    {
     "data": {
      "text/plain": [
       "<AxesSubplot:xlabel='Inflation rate', ylabel='Count'>"
      ]
     },
     "execution_count": 12,
     "metadata": {},
     "output_type": "execute_result"
    },
    {
     "data": {
      "image/png": "[encoded data removed]",
      "text/plain": [
       "<Figure size 432x288 with 1 Axes>"
      ]
     },
     "metadata": {
      "needs_background": "light"
     },
     "output_type": "display_data"
    }
   ],
   "source": [
    "sns.histplot(x='Inflation rate',data=df,hue='Target')"
   ]
  },
  {
   "cell_type": "markdown",
   "id": "b19c4018",
   "metadata": {},
   "source": [
    "## Train Test Split"
   ]
  },
  {
   "cell_type": "code",
   "execution_count": 13,
   "id": "d6c9d754",
   "metadata": {},
   "outputs": [],
   "source": [
    "from sklearn.model_selection import train_test_split"
   ]
  },
  {
   "cell_type": "code",
   "execution_count": 14,
   "id": "d3f5d645",
   "metadata": {},
   "outputs": [],
   "source": [
    "X_train, X_test, y_train, y_test = train_test_split(df.drop('Target',axis=1), df['Target'], test_size=0.2, random_state=101)"
   ]
  },
  {
   "cell_type": "markdown",
   "id": "969e6526",
   "metadata": {},
   "source": [
    "### Logistic Regression"
   ]
  },
  {
   "cell_type": "code",
   "execution_count": 15,
   "id": "99933a68",
   "metadata": {},
   "outputs": [],
   "source": [
    "from sklearn.linear_model import LogisticRegression"
   ]
  },
  {
   "cell_type": "code",
   "execution_count": 16,
   "id": "850a2ea1",
   "metadata": {},
   "outputs": [],
   "source": [
    "logmodel = LogisticRegression(max_iter=10000)"
   ]
  },
  {
   "cell_type": "code",
   "execution_count": 17,
   "id": "dc6a2f77",
   "metadata": {},
   "outputs": [
    {
     "data": {
      "text/plain": [
       "LogisticRegression(max_iter=10000)"
      ]
     },
     "execution_count": 17,
     "metadata": {},
     "output_type": "execute_result"
    }
   ],
   "source": [
    "logmodel.fit(X_train,y_train)"
   ]
  },
  {
   "cell_type": "code",
   "execution_count": 18,
   "id": "da1e62c4",
   "metadata": {},
   "outputs": [],
   "source": [
    "predictions = logmodel.predict(X_test)"
   ]
  },
  {
   "cell_type": "code",
   "execution_count": 19,
   "id": "e0f095d0",
   "metadata": {},
   "outputs": [
    {
     "name": "stdout",
     "output_type": "stream",
     "text": [
      "              precision    recall  f1-score   support\n",
      "\n",
      "     Dropout       0.83      0.72      0.77       285\n",
      "    Enrolled       0.48      0.30      0.37       141\n",
      "    Graduate       0.79      0.94      0.86       459\n",
      "\n",
      "    accuracy                           0.77       885\n",
      "   macro avg       0.70      0.65      0.67       885\n",
      "weighted avg       0.75      0.77      0.75       885\n",
      "\n",
      "\n",
      "\n",
      "[[206  29  50]\n",
      " [ 32  43  66]\n",
      " [ 11  18 430]]\n"
     ]
    }
   ],
   "source": [
    "print(classification_report(y_test,predictions))\n",
    "print(\"\\n\")\n",
    "print(confusion_matrix(y_test,predictions))"
   ]
  },
  {
   "cell_type": "markdown",
   "id": "91882086",
   "metadata": {},
   "source": [
    "**Logistic Regression performs very well on this case study**"
   ]
  },
  {
   "cell_type": "markdown",
   "id": "4c899bb5",
   "metadata": {},
   "source": [
    "### K-Nearst Neighbor"
   ]
  },
  {
   "cell_type": "code",
   "execution_count": 20,
   "id": "603ecc54",
   "metadata": {},
   "outputs": [],
   "source": [
    "from sklearn.neighbors import KNeighborsClassifier"
   ]
  },
  {
   "cell_type": "code",
   "execution_count": 21,
   "id": "f5c51056",
   "metadata": {},
   "outputs": [],
   "source": [
    "knn = KNeighborsClassifier(n_neighbors=1)"
   ]
  },
  {
   "cell_type": "code",
   "execution_count": 22,
   "id": "bfac4e7d",
   "metadata": {},
   "outputs": [
    {
     "data": {
      "text/plain": [
       "KNeighborsClassifier(n_neighbors=1)"
      ]
     },
     "execution_count": 22,
     "metadata": {},
     "output_type": "execute_result"
    }
   ],
   "source": [
    "knn.fit(X_train,y_train)"
   ]
  },
  {
   "cell_type": "code",
   "execution_count": 23,
   "id": "e4603384",
   "metadata": {},
   "outputs": [],
   "source": [
    "predictions = knn.predict(X_test)"
   ]
  },
  {
   "cell_type": "code",
   "execution_count": 24,
   "id": "19a7dc09",
   "metadata": {},
   "outputs": [
    {
     "name": "stdout",
     "output_type": "stream",
     "text": [
      "              precision    recall  f1-score   support\n",
      "\n",
      "     Dropout       0.58      0.48      0.53       285\n",
      "    Enrolled       0.30      0.37      0.33       141\n",
      "    Graduate       0.69      0.72      0.70       459\n",
      "\n",
      "    accuracy                           0.59       885\n",
      "   macro avg       0.53      0.52      0.52       885\n",
      "weighted avg       0.59      0.59      0.59       885\n",
      "\n",
      "\n",
      "\n",
      "[[138  57  90]\n",
      " [ 31  52  58]\n",
      " [ 67  62 330]]\n"
     ]
    }
   ],
   "source": [
    "print(classification_report(y_test,predictions))\n",
    "print(\"\\n\")\n",
    "print(confusion_matrix(y_test,predictions))"
   ]
  },
  {
   "cell_type": "code",
   "execution_count": 25,
   "id": "54603468",
   "metadata": {},
   "outputs": [],
   "source": [
    "error_rate = []\n",
    "\n",
    "for i in range(1,40):\n",
    "    knn = KNeighborsClassifier(n_neighbors=i)\n",
    "    knn.fit(X_train,y_train)\n",
    "    pred_i = knn.predict(X_test)\n",
    "    error_rate.append(np.mean(pred_i != y_test))"
   ]
  },
  {
   "cell_type": "code",
   "execution_count": 26,
   "id": "66ec2d27",
   "metadata": {},
   "outputs": [
    {
     "data": {
      "text/plain": [
       "Text(0, 0.5, 'Error Rate')"
      ]
     },
     "execution_count": 26,
     "metadata": {},
     "output_type": "execute_result"
    },
    {
     "data": {
      "image/png": "[encoded data removed]",
      "text/plain": [
       "<Figure size 720x432 with 1 Axes>"
      ]
     },
     "metadata": {
      "needs_background": "light"
     },
     "output_type": "display_data"
    }
   ],
   "source": [
    "plt.figure(figsize=(10,6))\n",
    "plt.plot(range(1,40),error_rate,color='blue',linestyle='--',marker='o',markerfacecolor='red',markersize=10)\n",
    "plt.title('Error Rate vs K value')\n",
    "plt.xlabel('K')\n",
    "plt.ylabel('Error Rate')"
   ]
  },
  {
   "cell_type": "code",
   "execution_count": 27,
   "id": "57f2ede6",
   "metadata": {},
   "outputs": [
    {
     "name": "stdout",
     "output_type": "stream",
     "text": [
      "[[160  29  96]\n",
      " [ 33  36  72]\n",
      " [ 62  23 374]]\n",
      "\n",
      "\n",
      "              precision    recall  f1-score   support\n",
      "\n",
      "     Dropout       0.63      0.56      0.59       285\n",
      "    Enrolled       0.41      0.26      0.31       141\n",
      "    Graduate       0.69      0.81      0.75       459\n",
      "\n",
      "    accuracy                           0.64       885\n",
      "   macro avg       0.58      0.54      0.55       885\n",
      "weighted avg       0.63      0.64      0.63       885\n",
      "\n"
     ]
    }
   ],
   "source": [
    "knn = KNeighborsClassifier(n_neighbors=11)\n",
    "knn.fit(X_train,y_train)\n",
    "predictions = knn.predict(X_test)\n",
    "\n",
    "print(confusion_matrix(y_test,predictions))\n",
    "print('\\n')\n",
    "print(classification_report(y_test,predictions))"
   ]
  },
  {
   "cell_type": "markdown",
   "id": "2bea5e91",
   "metadata": {},
   "source": [
    "**K-Nearst Neighbor does not perform well on this case study**"
   ]
  },
  {
   "cell_type": "markdown",
   "id": "ee9b0978",
   "metadata": {},
   "source": [
    "### Decision Tree"
   ]
  },
  {
   "cell_type": "code",
   "execution_count": 28,
   "id": "fda8ed0a",
   "metadata": {},
   "outputs": [],
   "source": [
    "from sklearn.tree import DecisionTreeClassifier"
   ]
  },
  {
   "cell_type": "code",
   "execution_count": 29,
   "id": "53e0c137",
   "metadata": {},
   "outputs": [],
   "source": [
    "dtree = DecisionTreeClassifier()"
   ]
  },
  {
   "cell_type": "code",
   "execution_count": 30,
   "id": "4f7ae3ad",
   "metadata": {},
   "outputs": [
    {
     "data": {
      "text/plain": [
       "DecisionTreeClassifier()"
      ]
     },
     "execution_count": 30,
     "metadata": {},
     "output_type": "execute_result"
    }
   ],
   "source": [
    "dtree.fit(X_train,y_train)"
   ]
  },
  {
   "cell_type": "code",
   "execution_count": 31,
   "id": "1dd16cba",
   "metadata": {},
   "outputs": [],
   "source": [
    "prediction = dtree.predict(X_test)"
   ]
  },
  {
   "cell_type": "code",
   "execution_count": 32,
   "id": "96022316",
   "metadata": {},
   "outputs": [
    {
     "name": "stdout",
     "output_type": "stream",
     "text": [
      "[[160  29  96]\n",
      " [ 33  36  72]\n",
      " [ 62  23 374]]\n",
      "\n",
      "\n",
      "              precision    recall  f1-score   support\n",
      "\n",
      "     Dropout       0.63      0.56      0.59       285\n",
      "    Enrolled       0.41      0.26      0.31       141\n",
      "    Graduate       0.69      0.81      0.75       459\n",
      "\n",
      "    accuracy                           0.64       885\n",
      "   macro avg       0.58      0.54      0.55       885\n",
      "weighted avg       0.63      0.64      0.63       885\n",
      "\n"
     ]
    }
   ],
   "source": [
    "print(confusion_matrix(y_test,predictions))\n",
    "print('\\n')\n",
    "print(classification_report(y_test,predictions))"
   ]
  },
  {
   "cell_type": "markdown",
   "id": "7e58f58b",
   "metadata": {},
   "source": [
    "**Decision Tree does not perform well on this case study**"
   ]
  },
  {
   "cell_type": "markdown",
   "id": "08969ce5",
   "metadata": {},
   "source": [
    "### Random Forest"
   ]
  },
  {
   "cell_type": "code",
   "execution_count": 33,
   "id": "e2701ddc",
   "metadata": {},
   "outputs": [],
   "source": [
    "from sklearn.ensemble import RandomForestClassifier"
   ]
  },
  {
   "cell_type": "code",
   "execution_count": 34,
   "id": "f741a495",
   "metadata": {},
   "outputs": [],
   "source": [
    "rfc = RandomForestClassifier(n_estimators=200)"
   ]
  },
  {
   "cell_type": "code",
   "execution_count": 35,
   "id": "4752ee19",
   "metadata": {},
   "outputs": [
    {
     "data": {
      "text/plain": [
       "RandomForestClassifier(n_estimators=200)"
      ]
     },
     "execution_count": 35,
     "metadata": {},
     "output_type": "execute_result"
    }
   ],
   "source": [
    "rfc.fit(X_train,y_train)"
   ]
  },
  {
   "cell_type": "code",
   "execution_count": 36,
   "id": "3cbc3f58",
   "metadata": {},
   "outputs": [],
   "source": [
    "rfc_pred = rfc.predict(X_test)"
   ]
  },
  {
   "cell_type": "code",
   "execution_count": 37,
   "id": "dde576db",
   "metadata": {
    "scrolled": false
   },
   "outputs": [
    {
     "name": "stdout",
     "output_type": "stream",
     "text": [
      "[[205  31  49]\n",
      " [ 35  47  59]\n",
      " [  4  17 438]]\n",
      "\n",
      "\n",
      "              precision    recall  f1-score   support\n",
      "\n",
      "     Dropout       0.84      0.72      0.78       285\n",
      "    Enrolled       0.49      0.33      0.40       141\n",
      "    Graduate       0.80      0.95      0.87       459\n",
      "\n",
      "    accuracy                           0.78       885\n",
      "   macro avg       0.71      0.67      0.68       885\n",
      "weighted avg       0.77      0.78      0.77       885\n",
      "\n"
     ]
    }
   ],
   "source": [
    "print(confusion_matrix(y_test,rfc_pred))\n",
    "print('\\n')\n",
    "print(classification_report(y_test,rfc_pred))"
   ]
  },
  {
   "cell_type": "markdown",
   "id": "9a83804f",
   "metadata": {},
   "source": [
    "**Random Forest performs the best on this case study**"
   ]
  },
  {
   "cell_type": "markdown",
   "id": "f96ce228",
   "metadata": {},
   "source": [
    "### Support Vector Machine"
   ]
  },
  {
   "cell_type": "code",
   "execution_count": 38,
   "id": "cfdf0398",
   "metadata": {},
   "outputs": [],
   "source": [
    "from sklearn.svm import SVC"
   ]
  },
  {
   "cell_type": "code",
   "execution_count": 39,
   "id": "1d07a9cf",
   "metadata": {},
   "outputs": [],
   "source": [
    "model = SVC()"
   ]
  },
  {
   "cell_type": "code",
   "execution_count": 40,
   "id": "e8851928",
   "metadata": {},
   "outputs": [
    {
     "data": {
      "text/plain": [
       "SVC()"
      ]
     },
     "execution_count": 40,
     "metadata": {},
     "output_type": "execute_result"
    }
   ],
   "source": [
    "model.fit(X_train,y_train)"
   ]
  },
  {
   "cell_type": "code",
   "execution_count": 41,
   "id": "5ee638e8",
   "metadata": {},
   "outputs": [],
   "source": [
    "predictions = model.predict(X_test)"
   ]
  },
  {
   "cell_type": "code",
   "execution_count": 42,
   "id": "643bf057",
   "metadata": {},
   "outputs": [
    {
     "name": "stdout",
     "output_type": "stream",
     "text": [
      "[[  0   0 285]\n",
      " [  0   0 141]\n",
      " [  0   0 459]]\n",
      "\n",
      "\n",
      "              precision    recall  f1-score   support\n",
      "\n",
      "     Dropout       0.00      0.00      0.00       285\n",
      "    Enrolled       0.00      0.00      0.00       141\n",
      "    Graduate       0.52      1.00      0.68       459\n",
      "\n",
      "    accuracy                           0.52       885\n",
      "   macro avg       0.17      0.33      0.23       885\n",
      "weighted avg       0.27      0.52      0.35       885\n",
      "\n"
     ]
    },
    {
     "name": "stderr",
     "output_type": "stream",
     "text": [
      "C:\\Users\\ngoa\\Anaconda3\\lib\\site-packages\\sklearn\\metrics\\_classification.py:1245: UndefinedMetricWarning: Precision and F-score are ill-defined and being set to 0.0 in labels with no predicted samples. Use `zero_division` parameter to control this behavior.\n",
      "  _warn_prf(average, modifier, msg_start, len(result))\n",
      "C:\\Users\\ngoa\\Anaconda3\\lib\\site-packages\\sklearn\\metrics\\_classification.py:1245: UndefinedMetricWarning: Precision and F-score are ill-defined and being set to 0.0 in labels with no predicted samples. Use `zero_division` parameter to control this behavior.\n",
      "  _warn_prf(average, modifier, msg_start, len(result))\n",
      "C:\\Users\\ngoa\\Anaconda3\\lib\\site-packages\\sklearn\\metrics\\_classification.py:1245: UndefinedMetricWarning: Precision and F-score are ill-defined and being set to 0.0 in labels with no predicted samples. Use `zero_division` parameter to control this behavior.\n",
      "  _warn_prf(average, modifier, msg_start, len(result))\n"
     ]
    }
   ],
   "source": [
    "print(confusion_matrix(y_test,predictions))\n",
    "print('\\n')\n",
    "print(classification_report(y_test,predictions))"
   ]
  },
  {
   "cell_type": "markdown",
   "id": "7fad7993",
   "metadata": {},
   "source": [
    "**Support Vector Machine cannot perform on this case study**"
   ]
  },
  {
   "cell_type": "markdown",
   "id": "63250ac0",
   "metadata": {},
   "source": [
    "### Grid Search CV"
   ]
  },
  {
   "cell_type": "code",
   "execution_count": 43,
   "id": "21300db9",
   "metadata": {},
   "outputs": [],
   "source": [
    "from sklearn.model_selection import GridSearchCV"
   ]
  },
  {
   "cell_type": "code",
   "execution_count": 44,
   "id": "b856a820",
   "metadata": {},
   "outputs": [],
   "source": [
    "param_grid = {'C':[0.1,1,10,100,1000],'gamma':[1,0.1,0.01,0.001,0.0001]}"
   ]
  },
  {
   "cell_type": "code",
   "execution_count": 45,
   "id": "be8a54d2",
   "metadata": {},
   "outputs": [],
   "source": [
    "grid = GridSearchCV(SVC(),param_grid,verbose=3)"
   ]
  },
  {
   "cell_type": "code",
   "execution_count": 46,
   "id": "de16927a",
   "metadata": {},
   "outputs": [
    {
     "name": "stdout",
     "output_type": "stream",
     "text": [
      "Fitting 5 folds for each of 25 candidates, totalling 125 fits\n",
      "[CV 1/5] END .................................C=0.1, gamma=1; total time=   1.1s\n",
      "[CV 2/5] END .................................C=0.1, gamma=1; total time=   1.1s\n",
      "[CV 3/5] END .................................C=0.1, gamma=1; total time=   1.1s\n",
      "[CV 4/5] END .................................C=0.1, gamma=1; total time=   1.1s\n",
      "[CV 5/5] END .................................C=0.1, gamma=1; total time=   1.1s\n",
      "[CV 1/5] END ...............................C=0.1, gamma=0.1; total time=   1.0s\n",
      "[CV 2/5] END ...............................C=0.1, gamma=0.1; total time=   1.1s\n",
      "[CV 3/5] END ...............................C=0.1, gamma=0.1; total time=   1.1s\n",
      "[CV 4/5] END ...............................C=0.1, gamma=0.1; total time=   1.1s\n",
      "[CV 5/5] END ...............................C=0.1, gamma=0.1; total time=   1.1s\n",
      "[CV 1/5] END ..............................C=0.1, gamma=0.01; total time=   1.0s\n",
      "[CV 2/5] END ..............................C=0.1, gamma=0.01; total time=   1.0s\n",
      "[CV 3/5] END ..............................C=0.1, gamma=0.01; total time=   1.0s\n",
      "[CV 4/5] END ..............................C=0.1, gamma=0.01; total time=   1.0s\n",
      "[CV 5/5] END ..............................C=0.1, gamma=0.01; total time=   1.0s\n",
      "[CV 1/5] END .............................C=0.1, gamma=0.001; total time=   0.7s\n",
      "[CV 2/5] END .............................C=0.1, gamma=0.001; total time=   0.7s\n",
      "[CV 3/5] END .............................C=0.1, gamma=0.001; total time=   0.7s\n",
      "[CV 4/5] END .............................C=0.1, gamma=0.001; total time=   0.7s\n",
      "[CV 5/5] END .............................C=0.1, gamma=0.001; total time=   0.8s\n",
      "[CV 1/5] END ............................C=0.1, gamma=0.0001; total time=   0.6s\n",
      "[CV 2/5] END ............................C=0.1, gamma=0.0001; total time=   0.6s\n",
      "[CV 3/5] END ............................C=0.1, gamma=0.0001; total time=   0.6s\n",
      "[CV 4/5] END ............................C=0.1, gamma=0.0001; total time=   0.6s\n",
      "[CV 5/5] END ............................C=0.1, gamma=0.0001; total time=   0.5s\n",
      "[CV 1/5] END ...................................C=1, gamma=1; total time=   1.1s\n",
      "[CV 2/5] END ...................................C=1, gamma=1; total time=   1.2s\n",
      "[CV 3/5] END ...................................C=1, gamma=1; total time=   1.2s\n",
      "[CV 4/5] END ...................................C=1, gamma=1; total time=   1.2s\n",
      "[CV 5/5] END ...................................C=1, gamma=1; total time=   1.2s\n",
      "[CV 1/5] END .................................C=1, gamma=0.1; total time=   1.1s\n",
      "[CV 2/5] END .................................C=1, gamma=0.1; total time=   1.1s\n",
      "[CV 3/5] END .................................C=1, gamma=0.1; total time=   1.1s\n",
      "[CV 4/5] END .................................C=1, gamma=0.1; total time=   1.1s\n",
      "[CV 5/5] END .................................C=1, gamma=0.1; total time=   1.1s\n",
      "[CV 1/5] END ................................C=1, gamma=0.01; total time=   1.1s\n",
      "[CV 2/5] END ................................C=1, gamma=0.01; total time=   1.0s\n",
      "[CV 3/5] END ................................C=1, gamma=0.01; total time=   1.2s\n",
      "[CV 4/5] END ................................C=1, gamma=0.01; total time=   1.1s\n",
      "[CV 5/5] END ................................C=1, gamma=0.01; total time=   1.1s\n",
      "[CV 1/5] END ...............................C=1, gamma=0.001; total time=   0.7s\n",
      "[CV 2/5] END ...............................C=1, gamma=0.001; total time=   0.7s\n",
      "[CV 3/5] END ...............................C=1, gamma=0.001; total time=   0.7s\n",
      "[CV 4/5] END ...............................C=1, gamma=0.001; total time=   0.7s\n",
      "[CV 5/5] END ...............................C=1, gamma=0.001; total time=   0.6s\n",
      "[CV 1/5] END ..............................C=1, gamma=0.0001; total time=   0.5s\n",
      "[CV 2/5] END ..............................C=1, gamma=0.0001; total time=   0.5s\n",
      "[CV 3/5] END ..............................C=1, gamma=0.0001; total time=   0.5s\n",
      "[CV 4/5] END ..............................C=1, gamma=0.0001; total time=   0.5s\n",
      "[CV 5/5] END ..............................C=1, gamma=0.0001; total time=   0.5s\n",
      "[CV 1/5] END ..................................C=10, gamma=1; total time=   1.1s\n",
      "[CV 2/5] END ..................................C=10, gamma=1; total time=   1.1s\n",
      "[CV 3/5] END ..................................C=10, gamma=1; total time=   1.1s\n",
      "[CV 4/5] END ..................................C=10, gamma=1; total time=   1.1s\n",
      "[CV 5/5] END ..................................C=10, gamma=1; total time=   1.1s\n",
      "[CV 1/5] END ................................C=10, gamma=0.1; total time=   1.1s\n",
      "[CV 2/5] END ................................C=10, gamma=0.1; total time=   1.1s\n",
      "[CV 3/5] END ................................C=10, gamma=0.1; total time=   1.1s\n",
      "[CV 4/5] END ................................C=10, gamma=0.1; total time=   1.1s\n",
      "[CV 5/5] END ................................C=10, gamma=0.1; total time=   1.1s\n",
      "[CV 1/5] END ...............................C=10, gamma=0.01; total time=   1.0s\n",
      "[CV 2/5] END ...............................C=10, gamma=0.01; total time=   1.0s\n",
      "[CV 3/5] END ...............................C=10, gamma=0.01; total time=   1.0s\n",
      "[CV 4/5] END ...............................C=10, gamma=0.01; total time=   1.0s\n",
      "[CV 5/5] END ...............................C=10, gamma=0.01; total time=   1.0s\n",
      "[CV 1/5] END ..............................C=10, gamma=0.001; total time=   0.8s\n",
      "[CV 2/5] END ..............................C=10, gamma=0.001; total time=   0.7s\n",
      "[CV 3/5] END ..............................C=10, gamma=0.001; total time=   0.7s\n",
      "[CV 4/5] END ..............................C=10, gamma=0.001; total time=   0.8s\n",
      "[CV 5/5] END ..............................C=10, gamma=0.001; total time=   0.7s\n",
      "[CV 1/5] END .............................C=10, gamma=0.0001; total time=   0.4s\n",
      "[CV 2/5] END .............................C=10, gamma=0.0001; total time=   0.4s\n",
      "[CV 3/5] END .............................C=10, gamma=0.0001; total time=   0.4s\n",
      "[CV 4/5] END .............................C=10, gamma=0.0001; total time=   0.4s\n",
      "[CV 5/5] END .............................C=10, gamma=0.0001; total time=   0.4s\n",
      "[CV 1/5] END .................................C=100, gamma=1; total time=   1.1s\n",
      "[CV 2/5] END .................................C=100, gamma=1; total time=   1.1s\n",
      "[CV 3/5] END .................................C=100, gamma=1; total time=   1.1s\n",
      "[CV 4/5] END .................................C=100, gamma=1; total time=   1.1s\n",
      "[CV 5/5] END .................................C=100, gamma=1; total time=   1.1s\n",
      "[CV 1/5] END ...............................C=100, gamma=0.1; total time=   1.1s\n",
      "[CV 2/5] END ...............................C=100, gamma=0.1; total time=   1.1s\n",
      "[CV 3/5] END ...............................C=100, gamma=0.1; total time=   1.1s\n",
      "[CV 4/5] END ...............................C=100, gamma=0.1; total time=   1.1s\n",
      "[CV 5/5] END ...............................C=100, gamma=0.1; total time=   1.1s\n",
      "[CV 1/5] END ..............................C=100, gamma=0.01; total time=   1.0s\n",
      "[CV 2/5] END ..............................C=100, gamma=0.01; total time=   1.0s\n",
      "[CV 3/5] END ..............................C=100, gamma=0.01; total time=   1.0s\n",
      "[CV 4/5] END ..............................C=100, gamma=0.01; total time=   1.1s\n",
      "[CV 5/5] END ..............................C=100, gamma=0.01; total time=   1.0s\n",
      "[CV 1/5] END .............................C=100, gamma=0.001; total time=   0.8s\n",
      "[CV 2/5] END .............................C=100, gamma=0.001; total time=   0.8s\n",
      "[CV 3/5] END .............................C=100, gamma=0.001; total time=   0.8s\n",
      "[CV 4/5] END .............................C=100, gamma=0.001; total time=   0.9s\n",
      "[CV 5/5] END .............................C=100, gamma=0.001; total time=   0.8s\n",
      "[CV 1/5] END ............................C=100, gamma=0.0001; total time=   0.6s\n",
      "[CV 2/5] END ............................C=100, gamma=0.0001; total time=   0.6s\n",
      "[CV 3/5] END ............................C=100, gamma=0.0001; total time=   0.6s\n",
      "[CV 4/5] END ............................C=100, gamma=0.0001; total time=   0.5s\n",
      "[CV 5/5] END ............................C=100, gamma=0.0001; total time=   0.5s\n",
      "[CV 1/5] END ................................C=1000, gamma=1; total time=   1.1s\n"
     ]
    },
    {
     "name": "stdout",
     "output_type": "stream",
     "text": [
      "[CV 2/5] END ................................C=1000, gamma=1; total time=   1.1s\n",
      "[CV 3/5] END ................................C=1000, gamma=1; total time=   1.1s\n",
      "[CV 4/5] END ................................C=1000, gamma=1; total time=   1.1s\n",
      "[CV 5/5] END ................................C=1000, gamma=1; total time=   1.2s\n",
      "[CV 1/5] END ..............................C=1000, gamma=0.1; total time=   1.2s\n",
      "[CV 2/5] END ..............................C=1000, gamma=0.1; total time=   1.2s\n",
      "[CV 3/5] END ..............................C=1000, gamma=0.1; total time=   1.2s\n",
      "[CV 4/5] END ..............................C=1000, gamma=0.1; total time=   1.2s\n",
      "[CV 5/5] END ..............................C=1000, gamma=0.1; total time=   1.1s\n",
      "[CV 1/5] END .............................C=1000, gamma=0.01; total time=   1.1s\n",
      "[CV 2/5] END .............................C=1000, gamma=0.01; total time=   1.0s\n",
      "[CV 3/5] END .............................C=1000, gamma=0.01; total time=   1.0s\n",
      "[CV 4/5] END .............................C=1000, gamma=0.01; total time=   1.0s\n",
      "[CV 5/5] END .............................C=1000, gamma=0.01; total time=   1.1s\n",
      "[CV 1/5] END ............................C=1000, gamma=0.001; total time=   0.9s\n",
      "[CV 2/5] END ............................C=1000, gamma=0.001; total time=   0.9s\n",
      "[CV 3/5] END ............................C=1000, gamma=0.001; total time=   0.9s\n",
      "[CV 4/5] END ............................C=1000, gamma=0.001; total time=   0.9s\n",
      "[CV 5/5] END ............................C=1000, gamma=0.001; total time=   0.8s\n",
      "[CV 1/5] END ...........................C=1000, gamma=0.0001; total time=   1.2s\n",
      "[CV 2/5] END ...........................C=1000, gamma=0.0001; total time=   1.1s\n",
      "[CV 3/5] END ...........................C=1000, gamma=0.0001; total time=   1.1s\n",
      "[CV 4/5] END ...........................C=1000, gamma=0.0001; total time=   1.2s\n",
      "[CV 5/5] END ...........................C=1000, gamma=0.0001; total time=   1.2s\n"
     ]
    },
    {
     "data": {
      "text/plain": [
       "GridSearchCV(estimator=SVC(),\n",
       "             param_grid={'C': [0.1, 1, 10, 100, 1000],\n",
       "                         'gamma': [1, 0.1, 0.01, 0.001, 0.0001]},\n",
       "             verbose=3)"
      ]
     },
     "execution_count": 46,
     "metadata": {},
     "output_type": "execute_result"
    }
   ],
   "source": [
    "grid.fit(X_train,y_train)"
   ]
  },
  {
   "cell_type": "code",
   "execution_count": 47,
   "id": "ec11fe09",
   "metadata": {},
   "outputs": [
    {
     "data": {
      "text/plain": [
       "SVC(C=100, gamma=0.0001)"
      ]
     },
     "execution_count": 47,
     "metadata": {},
     "output_type": "execute_result"
    }
   ],
   "source": [
    "grid.best_estimator_"
   ]
  },
  {
   "cell_type": "code",
   "execution_count": 48,
   "id": "d480a59c",
   "metadata": {},
   "outputs": [
    {
     "data": {
      "text/plain": [
       "{'C': 100, 'gamma': 0.0001}"
      ]
     },
     "execution_count": 48,
     "metadata": {},
     "output_type": "execute_result"
    }
   ],
   "source": [
    "grid.best_params_"
   ]
  },
  {
   "cell_type": "code",
   "execution_count": 49,
   "id": "00eb9f73",
   "metadata": {},
   "outputs": [
    {
     "data": {
      "text/plain": [
       "0.7052873204996044"
      ]
     },
     "execution_count": 49,
     "metadata": {},
     "output_type": "execute_result"
    }
   ],
   "source": [
    "grid.best_score_"
   ]
  },
  {
   "cell_type": "code",
   "execution_count": 50,
   "id": "3b265c84",
   "metadata": {},
   "outputs": [],
   "source": [
    "grid_predictions = grid.predict(X_test)"
   ]
  },
  {
   "cell_type": "code",
   "execution_count": 51,
   "id": "73db4112",
   "metadata": {
    "scrolled": true
   },
   "outputs": [
    {
     "name": "stdout",
     "output_type": "stream",
     "text": [
      "[[177  59  49]\n",
      " [ 41  50  50]\n",
      " [ 26  27 406]]\n",
      "\n",
      "\n",
      "              precision    recall  f1-score   support\n",
      "\n",
      "     Dropout       0.73      0.62      0.67       285\n",
      "    Enrolled       0.37      0.35      0.36       141\n",
      "    Graduate       0.80      0.88      0.84       459\n",
      "\n",
      "    accuracy                           0.72       885\n",
      "   macro avg       0.63      0.62      0.62       885\n",
      "weighted avg       0.71      0.72      0.71       885\n",
      "\n"
     ]
    }
   ],
   "source": [
    "print(confusion_matrix(y_test,grid_predictions))\n",
    "print('\\n')\n",
    "print(classification_report(y_test,grid_predictions))"
   ]
  },
  {
   "cell_type": "markdown",
   "id": "5ee120ba",
   "metadata": {},
   "source": [
    "**Grid Search CV performs very well on this case study**"
   ]
  },
  {
   "cell_type": "markdown",
   "id": "c4ceb0d7",
   "metadata": {},
   "source": [
    "# Conclusion"
   ]
  },
  {
   "cell_type": "markdown",
   "id": "14960498",
   "metadata": {},
   "source": [
    "*On this case study, Random Forest produces the best result, following by Grid Search CV and Logistic Regression. KNN and Decision Tree are not suitable for prediction. Support Vector Machine was not able to produce a feasible result.*"
   ]
  },
  {
   "cell_type": "code",
   "execution_count": null,
   "id": "26bf05e3",
   "metadata": {},
   "outputs": [],
   "source": []
  }
 ],
 "metadata": {
  "kernelspec": {
   "display_name": "Python 3",
   "language": "python",
   "name": "python3"
  },
  "language_info": {
   "codemirror_mode": {
    "name": "ipython",
    "version": 3
   },
   "file_extension": ".py",
   "mimetype": "text/x-python",
   "name": "python",
   "nbconvert_exporter": "python",
   "pygments_lexer": "ipython3",
   "version": "3.8.8"
  }
 },
 "nbformat": 4,
 "nbformat_minor": 5
}
